{
  "nbformat": 4,
  "nbformat_minor": 0,
  "metadata": {
    "colab": {
      "name": "HousePricePrediction.ipynb",
      "provenance": [],
      "collapsed_sections": []
    },
    "kernelspec": {
      "display_name": "Python 3",
      "name": "python3"
    },
    "language_info": {
      "name": "python"
    }
  },
  "cells": [
    {
      "cell_type": "markdown",
      "metadata": {
        "id": "NZ6Sf9-gxWrl"
      },
      "source": [
        " # Predicting the house prices using KC_house_data set.\n",
        "\n"
      ]
    },
    {
      "cell_type": "code",
      "metadata": {
        "id": "yu77tHN84sPw"
      },
      "source": [
        "#importing required libraries.\n",
        "\n",
        "import pandas as pd\n",
        "import numpy as np\n",
        "import matplotlib.pyplot as plt\n",
        "import seaborn as sns"
      ],
      "execution_count": null,
      "outputs": []
    },
    {
      "cell_type": "code",
      "metadata": {
        "colab": {
          "base_uri": "https://localhost:8080/",
          "height": 241
        },
        "id": "SlHIyXU_4wiz",
        "outputId": "4e9f36ab-dfc8-4ecb-c82d-aa8af847f2a2"
      },
      "source": [
        "# raw link for data set.\n",
        "url =\"https://raw.githubusercontent.com/BhargavPalaketi/MachineLearning/main/SupervisedLearning/Regression/Multivariate%20Regression/Datasets/kc_house_data.csv\"\n",
        "data = pd.read_csv(url)\n",
        "print(data.shape)\n",
        "data.head()"
      ],
      "execution_count": null,
      "outputs": [
        {
          "output_type": "stream",
          "text": [
            "(21613, 21)\n"
          ],
          "name": "stdout"
        },
        {
          "output_type": "execute_result",
          "data": {
            "text/html": [
              "<div>\n",
              "<style scoped>\n",
              "    .dataframe tbody tr th:only-of-type {\n",
              "        vertical-align: middle;\n",
              "    }\n",
              "\n",
              "    .dataframe tbody tr th {\n",
              "        vertical-align: top;\n",
              "    }\n",
              "\n",
              "    .dataframe thead th {\n",
              "        text-align: right;\n",
              "    }\n",
              "</style>\n",
              "<table border=\"1\" class=\"dataframe\">\n",
              "  <thead>\n",
              "    <tr style=\"text-align: right;\">\n",
              "      <th></th>\n",
              "      <th>id</th>\n",
              "      <th>date</th>\n",
              "      <th>price</th>\n",
              "      <th>bedrooms</th>\n",
              "      <th>bathrooms</th>\n",
              "      <th>sqft_living</th>\n",
              "      <th>sqft_lot</th>\n",
              "      <th>floors</th>\n",
              "      <th>waterfront</th>\n",
              "      <th>view</th>\n",
              "      <th>condition</th>\n",
              "      <th>grade</th>\n",
              "      <th>sqft_above</th>\n",
              "      <th>sqft_basement</th>\n",
              "      <th>yr_built</th>\n",
              "      <th>yr_renovated</th>\n",
              "      <th>zipcode</th>\n",
              "      <th>lat</th>\n",
              "      <th>long</th>\n",
              "      <th>sqft_living15</th>\n",
              "      <th>sqft_lot15</th>\n",
              "    </tr>\n",
              "  </thead>\n",
              "  <tbody>\n",
              "    <tr>\n",
              "      <th>0</th>\n",
              "      <td>7129300520</td>\n",
              "      <td>20141013T000000</td>\n",
              "      <td>221900.0</td>\n",
              "      <td>3</td>\n",
              "      <td>1.00</td>\n",
              "      <td>1180</td>\n",
              "      <td>5650</td>\n",
              "      <td>1.0</td>\n",
              "      <td>0</td>\n",
              "      <td>0</td>\n",
              "      <td>3</td>\n",
              "      <td>7</td>\n",
              "      <td>1180</td>\n",
              "      <td>0</td>\n",
              "      <td>1955</td>\n",
              "      <td>0</td>\n",
              "      <td>98178</td>\n",
              "      <td>47.5112</td>\n",
              "      <td>-122.257</td>\n",
              "      <td>1340</td>\n",
              "      <td>5650</td>\n",
              "    </tr>\n",
              "    <tr>\n",
              "      <th>1</th>\n",
              "      <td>6414100192</td>\n",
              "      <td>20141209T000000</td>\n",
              "      <td>538000.0</td>\n",
              "      <td>3</td>\n",
              "      <td>2.25</td>\n",
              "      <td>2570</td>\n",
              "      <td>7242</td>\n",
              "      <td>2.0</td>\n",
              "      <td>0</td>\n",
              "      <td>0</td>\n",
              "      <td>3</td>\n",
              "      <td>7</td>\n",
              "      <td>2170</td>\n",
              "      <td>400</td>\n",
              "      <td>1951</td>\n",
              "      <td>1991</td>\n",
              "      <td>98125</td>\n",
              "      <td>47.7210</td>\n",
              "      <td>-122.319</td>\n",
              "      <td>1690</td>\n",
              "      <td>7639</td>\n",
              "    </tr>\n",
              "    <tr>\n",
              "      <th>2</th>\n",
              "      <td>5631500400</td>\n",
              "      <td>20150225T000000</td>\n",
              "      <td>180000.0</td>\n",
              "      <td>2</td>\n",
              "      <td>1.00</td>\n",
              "      <td>770</td>\n",
              "      <td>10000</td>\n",
              "      <td>1.0</td>\n",
              "      <td>0</td>\n",
              "      <td>0</td>\n",
              "      <td>3</td>\n",
              "      <td>6</td>\n",
              "      <td>770</td>\n",
              "      <td>0</td>\n",
              "      <td>1933</td>\n",
              "      <td>0</td>\n",
              "      <td>98028</td>\n",
              "      <td>47.7379</td>\n",
              "      <td>-122.233</td>\n",
              "      <td>2720</td>\n",
              "      <td>8062</td>\n",
              "    </tr>\n",
              "    <tr>\n",
              "      <th>3</th>\n",
              "      <td>2487200875</td>\n",
              "      <td>20141209T000000</td>\n",
              "      <td>604000.0</td>\n",
              "      <td>4</td>\n",
              "      <td>3.00</td>\n",
              "      <td>1960</td>\n",
              "      <td>5000</td>\n",
              "      <td>1.0</td>\n",
              "      <td>0</td>\n",
              "      <td>0</td>\n",
              "      <td>5</td>\n",
              "      <td>7</td>\n",
              "      <td>1050</td>\n",
              "      <td>910</td>\n",
              "      <td>1965</td>\n",
              "      <td>0</td>\n",
              "      <td>98136</td>\n",
              "      <td>47.5208</td>\n",
              "      <td>-122.393</td>\n",
              "      <td>1360</td>\n",
              "      <td>5000</td>\n",
              "    </tr>\n",
              "    <tr>\n",
              "      <th>4</th>\n",
              "      <td>1954400510</td>\n",
              "      <td>20150218T000000</td>\n",
              "      <td>510000.0</td>\n",
              "      <td>3</td>\n",
              "      <td>2.00</td>\n",
              "      <td>1680</td>\n",
              "      <td>8080</td>\n",
              "      <td>1.0</td>\n",
              "      <td>0</td>\n",
              "      <td>0</td>\n",
              "      <td>3</td>\n",
              "      <td>8</td>\n",
              "      <td>1680</td>\n",
              "      <td>0</td>\n",
              "      <td>1987</td>\n",
              "      <td>0</td>\n",
              "      <td>98074</td>\n",
              "      <td>47.6168</td>\n",
              "      <td>-122.045</td>\n",
              "      <td>1800</td>\n",
              "      <td>7503</td>\n",
              "    </tr>\n",
              "  </tbody>\n",
              "</table>\n",
              "</div>"
            ],
            "text/plain": [
              "           id             date     price  ...     long  sqft_living15  sqft_lot15\n",
              "0  7129300520  20141013T000000  221900.0  ... -122.257           1340        5650\n",
              "1  6414100192  20141209T000000  538000.0  ... -122.319           1690        7639\n",
              "2  5631500400  20150225T000000  180000.0  ... -122.233           2720        8062\n",
              "3  2487200875  20141209T000000  604000.0  ... -122.393           1360        5000\n",
              "4  1954400510  20150218T000000  510000.0  ... -122.045           1800        7503\n",
              "\n",
              "[5 rows x 21 columns]"
            ]
          },
          "metadata": {
            "tags": []
          },
          "execution_count": 119
        }
      ]
    },
    {
      "cell_type": "code",
      "metadata": {
        "colab": {
          "base_uri": "https://localhost:8080/",
          "height": 665
        },
        "id": "9N36kZHfyFbW",
        "outputId": "d8baeb6a-e665-47c9-af5a-0eaae6deebf0"
      },
      "source": [
        " # describing the dataset\n",
        "data.describe().T"
      ],
      "execution_count": null,
      "outputs": [
        {
          "output_type": "execute_result",
          "data": {
            "text/html": [
              "<div>\n",
              "<style scoped>\n",
              "    .dataframe tbody tr th:only-of-type {\n",
              "        vertical-align: middle;\n",
              "    }\n",
              "\n",
              "    .dataframe tbody tr th {\n",
              "        vertical-align: top;\n",
              "    }\n",
              "\n",
              "    .dataframe thead th {\n",
              "        text-align: right;\n",
              "    }\n",
              "</style>\n",
              "<table border=\"1\" class=\"dataframe\">\n",
              "  <thead>\n",
              "    <tr style=\"text-align: right;\">\n",
              "      <th></th>\n",
              "      <th>count</th>\n",
              "      <th>mean</th>\n",
              "      <th>std</th>\n",
              "      <th>min</th>\n",
              "      <th>25%</th>\n",
              "      <th>50%</th>\n",
              "      <th>75%</th>\n",
              "      <th>max</th>\n",
              "    </tr>\n",
              "  </thead>\n",
              "  <tbody>\n",
              "    <tr>\n",
              "      <th>id</th>\n",
              "      <td>21613.0</td>\n",
              "      <td>4.580302e+09</td>\n",
              "      <td>2.876566e+09</td>\n",
              "      <td>1.000102e+06</td>\n",
              "      <td>2.123049e+09</td>\n",
              "      <td>3.904930e+09</td>\n",
              "      <td>7.308900e+09</td>\n",
              "      <td>9.900000e+09</td>\n",
              "    </tr>\n",
              "    <tr>\n",
              "      <th>price</th>\n",
              "      <td>21613.0</td>\n",
              "      <td>5.400881e+05</td>\n",
              "      <td>3.671272e+05</td>\n",
              "      <td>7.500000e+04</td>\n",
              "      <td>3.219500e+05</td>\n",
              "      <td>4.500000e+05</td>\n",
              "      <td>6.450000e+05</td>\n",
              "      <td>7.700000e+06</td>\n",
              "    </tr>\n",
              "    <tr>\n",
              "      <th>bedrooms</th>\n",
              "      <td>21613.0</td>\n",
              "      <td>3.370842e+00</td>\n",
              "      <td>9.300618e-01</td>\n",
              "      <td>0.000000e+00</td>\n",
              "      <td>3.000000e+00</td>\n",
              "      <td>3.000000e+00</td>\n",
              "      <td>4.000000e+00</td>\n",
              "      <td>3.300000e+01</td>\n",
              "    </tr>\n",
              "    <tr>\n",
              "      <th>bathrooms</th>\n",
              "      <td>21613.0</td>\n",
              "      <td>2.114757e+00</td>\n",
              "      <td>7.701632e-01</td>\n",
              "      <td>0.000000e+00</td>\n",
              "      <td>1.750000e+00</td>\n",
              "      <td>2.250000e+00</td>\n",
              "      <td>2.500000e+00</td>\n",
              "      <td>8.000000e+00</td>\n",
              "    </tr>\n",
              "    <tr>\n",
              "      <th>sqft_living</th>\n",
              "      <td>21613.0</td>\n",
              "      <td>2.079900e+03</td>\n",
              "      <td>9.184409e+02</td>\n",
              "      <td>2.900000e+02</td>\n",
              "      <td>1.427000e+03</td>\n",
              "      <td>1.910000e+03</td>\n",
              "      <td>2.550000e+03</td>\n",
              "      <td>1.354000e+04</td>\n",
              "    </tr>\n",
              "    <tr>\n",
              "      <th>sqft_lot</th>\n",
              "      <td>21613.0</td>\n",
              "      <td>1.510697e+04</td>\n",
              "      <td>4.142051e+04</td>\n",
              "      <td>5.200000e+02</td>\n",
              "      <td>5.040000e+03</td>\n",
              "      <td>7.618000e+03</td>\n",
              "      <td>1.068800e+04</td>\n",
              "      <td>1.651359e+06</td>\n",
              "    </tr>\n",
              "    <tr>\n",
              "      <th>floors</th>\n",
              "      <td>21613.0</td>\n",
              "      <td>1.494309e+00</td>\n",
              "      <td>5.399889e-01</td>\n",
              "      <td>1.000000e+00</td>\n",
              "      <td>1.000000e+00</td>\n",
              "      <td>1.500000e+00</td>\n",
              "      <td>2.000000e+00</td>\n",
              "      <td>3.500000e+00</td>\n",
              "    </tr>\n",
              "    <tr>\n",
              "      <th>waterfront</th>\n",
              "      <td>21613.0</td>\n",
              "      <td>7.541757e-03</td>\n",
              "      <td>8.651720e-02</td>\n",
              "      <td>0.000000e+00</td>\n",
              "      <td>0.000000e+00</td>\n",
              "      <td>0.000000e+00</td>\n",
              "      <td>0.000000e+00</td>\n",
              "      <td>1.000000e+00</td>\n",
              "    </tr>\n",
              "    <tr>\n",
              "      <th>view</th>\n",
              "      <td>21613.0</td>\n",
              "      <td>2.343034e-01</td>\n",
              "      <td>7.663176e-01</td>\n",
              "      <td>0.000000e+00</td>\n",
              "      <td>0.000000e+00</td>\n",
              "      <td>0.000000e+00</td>\n",
              "      <td>0.000000e+00</td>\n",
              "      <td>4.000000e+00</td>\n",
              "    </tr>\n",
              "    <tr>\n",
              "      <th>condition</th>\n",
              "      <td>21613.0</td>\n",
              "      <td>3.409430e+00</td>\n",
              "      <td>6.507430e-01</td>\n",
              "      <td>1.000000e+00</td>\n",
              "      <td>3.000000e+00</td>\n",
              "      <td>3.000000e+00</td>\n",
              "      <td>4.000000e+00</td>\n",
              "      <td>5.000000e+00</td>\n",
              "    </tr>\n",
              "    <tr>\n",
              "      <th>grade</th>\n",
              "      <td>21613.0</td>\n",
              "      <td>7.656873e+00</td>\n",
              "      <td>1.175459e+00</td>\n",
              "      <td>1.000000e+00</td>\n",
              "      <td>7.000000e+00</td>\n",
              "      <td>7.000000e+00</td>\n",
              "      <td>8.000000e+00</td>\n",
              "      <td>1.300000e+01</td>\n",
              "    </tr>\n",
              "    <tr>\n",
              "      <th>sqft_above</th>\n",
              "      <td>21613.0</td>\n",
              "      <td>1.788391e+03</td>\n",
              "      <td>8.280910e+02</td>\n",
              "      <td>2.900000e+02</td>\n",
              "      <td>1.190000e+03</td>\n",
              "      <td>1.560000e+03</td>\n",
              "      <td>2.210000e+03</td>\n",
              "      <td>9.410000e+03</td>\n",
              "    </tr>\n",
              "    <tr>\n",
              "      <th>sqft_basement</th>\n",
              "      <td>21613.0</td>\n",
              "      <td>2.915090e+02</td>\n",
              "      <td>4.425750e+02</td>\n",
              "      <td>0.000000e+00</td>\n",
              "      <td>0.000000e+00</td>\n",
              "      <td>0.000000e+00</td>\n",
              "      <td>5.600000e+02</td>\n",
              "      <td>4.820000e+03</td>\n",
              "    </tr>\n",
              "    <tr>\n",
              "      <th>yr_built</th>\n",
              "      <td>21613.0</td>\n",
              "      <td>1.971005e+03</td>\n",
              "      <td>2.937341e+01</td>\n",
              "      <td>1.900000e+03</td>\n",
              "      <td>1.951000e+03</td>\n",
              "      <td>1.975000e+03</td>\n",
              "      <td>1.997000e+03</td>\n",
              "      <td>2.015000e+03</td>\n",
              "    </tr>\n",
              "    <tr>\n",
              "      <th>yr_renovated</th>\n",
              "      <td>21613.0</td>\n",
              "      <td>8.440226e+01</td>\n",
              "      <td>4.016792e+02</td>\n",
              "      <td>0.000000e+00</td>\n",
              "      <td>0.000000e+00</td>\n",
              "      <td>0.000000e+00</td>\n",
              "      <td>0.000000e+00</td>\n",
              "      <td>2.015000e+03</td>\n",
              "    </tr>\n",
              "    <tr>\n",
              "      <th>zipcode</th>\n",
              "      <td>21613.0</td>\n",
              "      <td>9.807794e+04</td>\n",
              "      <td>5.350503e+01</td>\n",
              "      <td>9.800100e+04</td>\n",
              "      <td>9.803300e+04</td>\n",
              "      <td>9.806500e+04</td>\n",
              "      <td>9.811800e+04</td>\n",
              "      <td>9.819900e+04</td>\n",
              "    </tr>\n",
              "    <tr>\n",
              "      <th>lat</th>\n",
              "      <td>21613.0</td>\n",
              "      <td>4.756005e+01</td>\n",
              "      <td>1.385637e-01</td>\n",
              "      <td>4.715590e+01</td>\n",
              "      <td>4.747100e+01</td>\n",
              "      <td>4.757180e+01</td>\n",
              "      <td>4.767800e+01</td>\n",
              "      <td>4.777760e+01</td>\n",
              "    </tr>\n",
              "    <tr>\n",
              "      <th>long</th>\n",
              "      <td>21613.0</td>\n",
              "      <td>-1.222139e+02</td>\n",
              "      <td>1.408283e-01</td>\n",
              "      <td>-1.225190e+02</td>\n",
              "      <td>-1.223280e+02</td>\n",
              "      <td>-1.222300e+02</td>\n",
              "      <td>-1.221250e+02</td>\n",
              "      <td>-1.213150e+02</td>\n",
              "    </tr>\n",
              "    <tr>\n",
              "      <th>sqft_living15</th>\n",
              "      <td>21613.0</td>\n",
              "      <td>1.986552e+03</td>\n",
              "      <td>6.853913e+02</td>\n",
              "      <td>3.990000e+02</td>\n",
              "      <td>1.490000e+03</td>\n",
              "      <td>1.840000e+03</td>\n",
              "      <td>2.360000e+03</td>\n",
              "      <td>6.210000e+03</td>\n",
              "    </tr>\n",
              "    <tr>\n",
              "      <th>sqft_lot15</th>\n",
              "      <td>21613.0</td>\n",
              "      <td>1.276846e+04</td>\n",
              "      <td>2.730418e+04</td>\n",
              "      <td>6.510000e+02</td>\n",
              "      <td>5.100000e+03</td>\n",
              "      <td>7.620000e+03</td>\n",
              "      <td>1.008300e+04</td>\n",
              "      <td>8.712000e+05</td>\n",
              "    </tr>\n",
              "  </tbody>\n",
              "</table>\n",
              "</div>"
            ],
            "text/plain": [
              "                 count          mean  ...           75%           max\n",
              "id             21613.0  4.580302e+09  ...  7.308900e+09  9.900000e+09\n",
              "price          21613.0  5.400881e+05  ...  6.450000e+05  7.700000e+06\n",
              "bedrooms       21613.0  3.370842e+00  ...  4.000000e+00  3.300000e+01\n",
              "bathrooms      21613.0  2.114757e+00  ...  2.500000e+00  8.000000e+00\n",
              "sqft_living    21613.0  2.079900e+03  ...  2.550000e+03  1.354000e+04\n",
              "sqft_lot       21613.0  1.510697e+04  ...  1.068800e+04  1.651359e+06\n",
              "floors         21613.0  1.494309e+00  ...  2.000000e+00  3.500000e+00\n",
              "waterfront     21613.0  7.541757e-03  ...  0.000000e+00  1.000000e+00\n",
              "view           21613.0  2.343034e-01  ...  0.000000e+00  4.000000e+00\n",
              "condition      21613.0  3.409430e+00  ...  4.000000e+00  5.000000e+00\n",
              "grade          21613.0  7.656873e+00  ...  8.000000e+00  1.300000e+01\n",
              "sqft_above     21613.0  1.788391e+03  ...  2.210000e+03  9.410000e+03\n",
              "sqft_basement  21613.0  2.915090e+02  ...  5.600000e+02  4.820000e+03\n",
              "yr_built       21613.0  1.971005e+03  ...  1.997000e+03  2.015000e+03\n",
              "yr_renovated   21613.0  8.440226e+01  ...  0.000000e+00  2.015000e+03\n",
              "zipcode        21613.0  9.807794e+04  ...  9.811800e+04  9.819900e+04\n",
              "lat            21613.0  4.756005e+01  ...  4.767800e+01  4.777760e+01\n",
              "long           21613.0 -1.222139e+02  ... -1.221250e+02 -1.213150e+02\n",
              "sqft_living15  21613.0  1.986552e+03  ...  2.360000e+03  6.210000e+03\n",
              "sqft_lot15     21613.0  1.276846e+04  ...  1.008300e+04  8.712000e+05\n",
              "\n",
              "[20 rows x 8 columns]"
            ]
          },
          "metadata": {
            "tags": []
          },
          "execution_count": 120
        }
      ]
    },
    {
      "cell_type": "markdown",
      "metadata": {
        "id": "ke-UQihyxzlw"
      },
      "source": [
        " ### Finding the correlation between the features"
      ]
    },
    {
      "cell_type": "code",
      "metadata": {
        "colab": {
          "base_uri": "https://localhost:8080/",
          "height": 685
        },
        "id": "Qkk4_xlp-jZm",
        "outputId": "d5a1ae1c-f987-454e-a79f-6d5e3d4aae16"
      },
      "source": [
        "correlated_features = set ()\n",
        "correlation_matrix = data.corr()\n",
        "correlation_matrix"
      ],
      "execution_count": null,
      "outputs": [
        {
          "output_type": "execute_result",
          "data": {
            "text/html": [
              "<div>\n",
              "<style scoped>\n",
              "    .dataframe tbody tr th:only-of-type {\n",
              "        vertical-align: middle;\n",
              "    }\n",
              "\n",
              "    .dataframe tbody tr th {\n",
              "        vertical-align: top;\n",
              "    }\n",
              "\n",
              "    .dataframe thead th {\n",
              "        text-align: right;\n",
              "    }\n",
              "</style>\n",
              "<table border=\"1\" class=\"dataframe\">\n",
              "  <thead>\n",
              "    <tr style=\"text-align: right;\">\n",
              "      <th></th>\n",
              "      <th>id</th>\n",
              "      <th>price</th>\n",
              "      <th>bedrooms</th>\n",
              "      <th>bathrooms</th>\n",
              "      <th>sqft_living</th>\n",
              "      <th>sqft_lot</th>\n",
              "      <th>floors</th>\n",
              "      <th>waterfront</th>\n",
              "      <th>view</th>\n",
              "      <th>condition</th>\n",
              "      <th>grade</th>\n",
              "      <th>sqft_above</th>\n",
              "      <th>sqft_basement</th>\n",
              "      <th>yr_built</th>\n",
              "      <th>yr_renovated</th>\n",
              "      <th>zipcode</th>\n",
              "      <th>lat</th>\n",
              "      <th>long</th>\n",
              "      <th>sqft_living15</th>\n",
              "      <th>sqft_lot15</th>\n",
              "    </tr>\n",
              "  </thead>\n",
              "  <tbody>\n",
              "    <tr>\n",
              "      <th>id</th>\n",
              "      <td>1.000000</td>\n",
              "      <td>-0.016762</td>\n",
              "      <td>0.001286</td>\n",
              "      <td>0.005160</td>\n",
              "      <td>-0.012258</td>\n",
              "      <td>-0.132109</td>\n",
              "      <td>0.018525</td>\n",
              "      <td>-0.002721</td>\n",
              "      <td>0.011592</td>\n",
              "      <td>-0.023783</td>\n",
              "      <td>0.008130</td>\n",
              "      <td>-0.010842</td>\n",
              "      <td>-0.005151</td>\n",
              "      <td>0.021380</td>\n",
              "      <td>-0.016907</td>\n",
              "      <td>-0.008224</td>\n",
              "      <td>-0.001891</td>\n",
              "      <td>0.020799</td>\n",
              "      <td>-0.002901</td>\n",
              "      <td>-0.138798</td>\n",
              "    </tr>\n",
              "    <tr>\n",
              "      <th>price</th>\n",
              "      <td>-0.016762</td>\n",
              "      <td>1.000000</td>\n",
              "      <td>0.308350</td>\n",
              "      <td>0.525138</td>\n",
              "      <td>0.702035</td>\n",
              "      <td>0.089661</td>\n",
              "      <td>0.256794</td>\n",
              "      <td>0.266369</td>\n",
              "      <td>0.397293</td>\n",
              "      <td>0.036362</td>\n",
              "      <td>0.667434</td>\n",
              "      <td>0.605567</td>\n",
              "      <td>0.323816</td>\n",
              "      <td>0.054012</td>\n",
              "      <td>0.126434</td>\n",
              "      <td>-0.053203</td>\n",
              "      <td>0.307003</td>\n",
              "      <td>0.021626</td>\n",
              "      <td>0.585379</td>\n",
              "      <td>0.082447</td>\n",
              "    </tr>\n",
              "    <tr>\n",
              "      <th>bedrooms</th>\n",
              "      <td>0.001286</td>\n",
              "      <td>0.308350</td>\n",
              "      <td>1.000000</td>\n",
              "      <td>0.515884</td>\n",
              "      <td>0.576671</td>\n",
              "      <td>0.031703</td>\n",
              "      <td>0.175429</td>\n",
              "      <td>-0.006582</td>\n",
              "      <td>0.079532</td>\n",
              "      <td>0.028472</td>\n",
              "      <td>0.356967</td>\n",
              "      <td>0.477600</td>\n",
              "      <td>0.303093</td>\n",
              "      <td>0.154178</td>\n",
              "      <td>0.018841</td>\n",
              "      <td>-0.152668</td>\n",
              "      <td>-0.008931</td>\n",
              "      <td>0.129473</td>\n",
              "      <td>0.391638</td>\n",
              "      <td>0.029244</td>\n",
              "    </tr>\n",
              "    <tr>\n",
              "      <th>bathrooms</th>\n",
              "      <td>0.005160</td>\n",
              "      <td>0.525138</td>\n",
              "      <td>0.515884</td>\n",
              "      <td>1.000000</td>\n",
              "      <td>0.754665</td>\n",
              "      <td>0.087740</td>\n",
              "      <td>0.500653</td>\n",
              "      <td>0.063744</td>\n",
              "      <td>0.187737</td>\n",
              "      <td>-0.124982</td>\n",
              "      <td>0.664983</td>\n",
              "      <td>0.685342</td>\n",
              "      <td>0.283770</td>\n",
              "      <td>0.506019</td>\n",
              "      <td>0.050739</td>\n",
              "      <td>-0.203866</td>\n",
              "      <td>0.024573</td>\n",
              "      <td>0.223042</td>\n",
              "      <td>0.568634</td>\n",
              "      <td>0.087175</td>\n",
              "    </tr>\n",
              "    <tr>\n",
              "      <th>sqft_living</th>\n",
              "      <td>-0.012258</td>\n",
              "      <td>0.702035</td>\n",
              "      <td>0.576671</td>\n",
              "      <td>0.754665</td>\n",
              "      <td>1.000000</td>\n",
              "      <td>0.172826</td>\n",
              "      <td>0.353949</td>\n",
              "      <td>0.103818</td>\n",
              "      <td>0.284611</td>\n",
              "      <td>-0.058753</td>\n",
              "      <td>0.762704</td>\n",
              "      <td>0.876597</td>\n",
              "      <td>0.435043</td>\n",
              "      <td>0.318049</td>\n",
              "      <td>0.055363</td>\n",
              "      <td>-0.199430</td>\n",
              "      <td>0.052529</td>\n",
              "      <td>0.240223</td>\n",
              "      <td>0.756420</td>\n",
              "      <td>0.183286</td>\n",
              "    </tr>\n",
              "    <tr>\n",
              "      <th>sqft_lot</th>\n",
              "      <td>-0.132109</td>\n",
              "      <td>0.089661</td>\n",
              "      <td>0.031703</td>\n",
              "      <td>0.087740</td>\n",
              "      <td>0.172826</td>\n",
              "      <td>1.000000</td>\n",
              "      <td>-0.005201</td>\n",
              "      <td>0.021604</td>\n",
              "      <td>0.074710</td>\n",
              "      <td>-0.008958</td>\n",
              "      <td>0.113621</td>\n",
              "      <td>0.183512</td>\n",
              "      <td>0.015286</td>\n",
              "      <td>0.053080</td>\n",
              "      <td>0.007644</td>\n",
              "      <td>-0.129574</td>\n",
              "      <td>-0.085683</td>\n",
              "      <td>0.229521</td>\n",
              "      <td>0.144608</td>\n",
              "      <td>0.718557</td>\n",
              "    </tr>\n",
              "    <tr>\n",
              "      <th>floors</th>\n",
              "      <td>0.018525</td>\n",
              "      <td>0.256794</td>\n",
              "      <td>0.175429</td>\n",
              "      <td>0.500653</td>\n",
              "      <td>0.353949</td>\n",
              "      <td>-0.005201</td>\n",
              "      <td>1.000000</td>\n",
              "      <td>0.023698</td>\n",
              "      <td>0.029444</td>\n",
              "      <td>-0.263768</td>\n",
              "      <td>0.458183</td>\n",
              "      <td>0.523885</td>\n",
              "      <td>-0.245705</td>\n",
              "      <td>0.489319</td>\n",
              "      <td>0.006338</td>\n",
              "      <td>-0.059121</td>\n",
              "      <td>0.049614</td>\n",
              "      <td>0.125419</td>\n",
              "      <td>0.279885</td>\n",
              "      <td>-0.011269</td>\n",
              "    </tr>\n",
              "    <tr>\n",
              "      <th>waterfront</th>\n",
              "      <td>-0.002721</td>\n",
              "      <td>0.266369</td>\n",
              "      <td>-0.006582</td>\n",
              "      <td>0.063744</td>\n",
              "      <td>0.103818</td>\n",
              "      <td>0.021604</td>\n",
              "      <td>0.023698</td>\n",
              "      <td>1.000000</td>\n",
              "      <td>0.401857</td>\n",
              "      <td>0.016653</td>\n",
              "      <td>0.082775</td>\n",
              "      <td>0.072075</td>\n",
              "      <td>0.080588</td>\n",
              "      <td>-0.026161</td>\n",
              "      <td>0.092885</td>\n",
              "      <td>0.030285</td>\n",
              "      <td>-0.014274</td>\n",
              "      <td>-0.041910</td>\n",
              "      <td>0.086463</td>\n",
              "      <td>0.030703</td>\n",
              "    </tr>\n",
              "    <tr>\n",
              "      <th>view</th>\n",
              "      <td>0.011592</td>\n",
              "      <td>0.397293</td>\n",
              "      <td>0.079532</td>\n",
              "      <td>0.187737</td>\n",
              "      <td>0.284611</td>\n",
              "      <td>0.074710</td>\n",
              "      <td>0.029444</td>\n",
              "      <td>0.401857</td>\n",
              "      <td>1.000000</td>\n",
              "      <td>0.045990</td>\n",
              "      <td>0.251321</td>\n",
              "      <td>0.167649</td>\n",
              "      <td>0.276947</td>\n",
              "      <td>-0.053440</td>\n",
              "      <td>0.103917</td>\n",
              "      <td>0.084827</td>\n",
              "      <td>0.006157</td>\n",
              "      <td>-0.078400</td>\n",
              "      <td>0.280439</td>\n",
              "      <td>0.072575</td>\n",
              "    </tr>\n",
              "    <tr>\n",
              "      <th>condition</th>\n",
              "      <td>-0.023783</td>\n",
              "      <td>0.036362</td>\n",
              "      <td>0.028472</td>\n",
              "      <td>-0.124982</td>\n",
              "      <td>-0.058753</td>\n",
              "      <td>-0.008958</td>\n",
              "      <td>-0.263768</td>\n",
              "      <td>0.016653</td>\n",
              "      <td>0.045990</td>\n",
              "      <td>1.000000</td>\n",
              "      <td>-0.144674</td>\n",
              "      <td>-0.158214</td>\n",
              "      <td>0.174105</td>\n",
              "      <td>-0.361417</td>\n",
              "      <td>-0.060618</td>\n",
              "      <td>0.003026</td>\n",
              "      <td>-0.014941</td>\n",
              "      <td>-0.106500</td>\n",
              "      <td>-0.092824</td>\n",
              "      <td>-0.003406</td>\n",
              "    </tr>\n",
              "    <tr>\n",
              "      <th>grade</th>\n",
              "      <td>0.008130</td>\n",
              "      <td>0.667434</td>\n",
              "      <td>0.356967</td>\n",
              "      <td>0.664983</td>\n",
              "      <td>0.762704</td>\n",
              "      <td>0.113621</td>\n",
              "      <td>0.458183</td>\n",
              "      <td>0.082775</td>\n",
              "      <td>0.251321</td>\n",
              "      <td>-0.144674</td>\n",
              "      <td>1.000000</td>\n",
              "      <td>0.755923</td>\n",
              "      <td>0.168392</td>\n",
              "      <td>0.446963</td>\n",
              "      <td>0.014414</td>\n",
              "      <td>-0.184862</td>\n",
              "      <td>0.114084</td>\n",
              "      <td>0.198372</td>\n",
              "      <td>0.713202</td>\n",
              "      <td>0.119248</td>\n",
              "    </tr>\n",
              "    <tr>\n",
              "      <th>sqft_above</th>\n",
              "      <td>-0.010842</td>\n",
              "      <td>0.605567</td>\n",
              "      <td>0.477600</td>\n",
              "      <td>0.685342</td>\n",
              "      <td>0.876597</td>\n",
              "      <td>0.183512</td>\n",
              "      <td>0.523885</td>\n",
              "      <td>0.072075</td>\n",
              "      <td>0.167649</td>\n",
              "      <td>-0.158214</td>\n",
              "      <td>0.755923</td>\n",
              "      <td>1.000000</td>\n",
              "      <td>-0.051943</td>\n",
              "      <td>0.423898</td>\n",
              "      <td>0.023285</td>\n",
              "      <td>-0.261190</td>\n",
              "      <td>-0.000816</td>\n",
              "      <td>0.343803</td>\n",
              "      <td>0.731870</td>\n",
              "      <td>0.194050</td>\n",
              "    </tr>\n",
              "    <tr>\n",
              "      <th>sqft_basement</th>\n",
              "      <td>-0.005151</td>\n",
              "      <td>0.323816</td>\n",
              "      <td>0.303093</td>\n",
              "      <td>0.283770</td>\n",
              "      <td>0.435043</td>\n",
              "      <td>0.015286</td>\n",
              "      <td>-0.245705</td>\n",
              "      <td>0.080588</td>\n",
              "      <td>0.276947</td>\n",
              "      <td>0.174105</td>\n",
              "      <td>0.168392</td>\n",
              "      <td>-0.051943</td>\n",
              "      <td>1.000000</td>\n",
              "      <td>-0.133124</td>\n",
              "      <td>0.071323</td>\n",
              "      <td>0.074845</td>\n",
              "      <td>0.110538</td>\n",
              "      <td>-0.144765</td>\n",
              "      <td>0.200355</td>\n",
              "      <td>0.017276</td>\n",
              "    </tr>\n",
              "    <tr>\n",
              "      <th>yr_built</th>\n",
              "      <td>0.021380</td>\n",
              "      <td>0.054012</td>\n",
              "      <td>0.154178</td>\n",
              "      <td>0.506019</td>\n",
              "      <td>0.318049</td>\n",
              "      <td>0.053080</td>\n",
              "      <td>0.489319</td>\n",
              "      <td>-0.026161</td>\n",
              "      <td>-0.053440</td>\n",
              "      <td>-0.361417</td>\n",
              "      <td>0.446963</td>\n",
              "      <td>0.423898</td>\n",
              "      <td>-0.133124</td>\n",
              "      <td>1.000000</td>\n",
              "      <td>-0.224874</td>\n",
              "      <td>-0.346869</td>\n",
              "      <td>-0.148122</td>\n",
              "      <td>0.409356</td>\n",
              "      <td>0.326229</td>\n",
              "      <td>0.070958</td>\n",
              "    </tr>\n",
              "    <tr>\n",
              "      <th>yr_renovated</th>\n",
              "      <td>-0.016907</td>\n",
              "      <td>0.126434</td>\n",
              "      <td>0.018841</td>\n",
              "      <td>0.050739</td>\n",
              "      <td>0.055363</td>\n",
              "      <td>0.007644</td>\n",
              "      <td>0.006338</td>\n",
              "      <td>0.092885</td>\n",
              "      <td>0.103917</td>\n",
              "      <td>-0.060618</td>\n",
              "      <td>0.014414</td>\n",
              "      <td>0.023285</td>\n",
              "      <td>0.071323</td>\n",
              "      <td>-0.224874</td>\n",
              "      <td>1.000000</td>\n",
              "      <td>0.064357</td>\n",
              "      <td>0.029398</td>\n",
              "      <td>-0.068372</td>\n",
              "      <td>-0.002673</td>\n",
              "      <td>0.007854</td>\n",
              "    </tr>\n",
              "    <tr>\n",
              "      <th>zipcode</th>\n",
              "      <td>-0.008224</td>\n",
              "      <td>-0.053203</td>\n",
              "      <td>-0.152668</td>\n",
              "      <td>-0.203866</td>\n",
              "      <td>-0.199430</td>\n",
              "      <td>-0.129574</td>\n",
              "      <td>-0.059121</td>\n",
              "      <td>0.030285</td>\n",
              "      <td>0.084827</td>\n",
              "      <td>0.003026</td>\n",
              "      <td>-0.184862</td>\n",
              "      <td>-0.261190</td>\n",
              "      <td>0.074845</td>\n",
              "      <td>-0.346869</td>\n",
              "      <td>0.064357</td>\n",
              "      <td>1.000000</td>\n",
              "      <td>0.267048</td>\n",
              "      <td>-0.564072</td>\n",
              "      <td>-0.279033</td>\n",
              "      <td>-0.147221</td>\n",
              "    </tr>\n",
              "    <tr>\n",
              "      <th>lat</th>\n",
              "      <td>-0.001891</td>\n",
              "      <td>0.307003</td>\n",
              "      <td>-0.008931</td>\n",
              "      <td>0.024573</td>\n",
              "      <td>0.052529</td>\n",
              "      <td>-0.085683</td>\n",
              "      <td>0.049614</td>\n",
              "      <td>-0.014274</td>\n",
              "      <td>0.006157</td>\n",
              "      <td>-0.014941</td>\n",
              "      <td>0.114084</td>\n",
              "      <td>-0.000816</td>\n",
              "      <td>0.110538</td>\n",
              "      <td>-0.148122</td>\n",
              "      <td>0.029398</td>\n",
              "      <td>0.267048</td>\n",
              "      <td>1.000000</td>\n",
              "      <td>-0.135512</td>\n",
              "      <td>0.048858</td>\n",
              "      <td>-0.086419</td>\n",
              "    </tr>\n",
              "    <tr>\n",
              "      <th>long</th>\n",
              "      <td>0.020799</td>\n",
              "      <td>0.021626</td>\n",
              "      <td>0.129473</td>\n",
              "      <td>0.223042</td>\n",
              "      <td>0.240223</td>\n",
              "      <td>0.229521</td>\n",
              "      <td>0.125419</td>\n",
              "      <td>-0.041910</td>\n",
              "      <td>-0.078400</td>\n",
              "      <td>-0.106500</td>\n",
              "      <td>0.198372</td>\n",
              "      <td>0.343803</td>\n",
              "      <td>-0.144765</td>\n",
              "      <td>0.409356</td>\n",
              "      <td>-0.068372</td>\n",
              "      <td>-0.564072</td>\n",
              "      <td>-0.135512</td>\n",
              "      <td>1.000000</td>\n",
              "      <td>0.334605</td>\n",
              "      <td>0.254451</td>\n",
              "    </tr>\n",
              "    <tr>\n",
              "      <th>sqft_living15</th>\n",
              "      <td>-0.002901</td>\n",
              "      <td>0.585379</td>\n",
              "      <td>0.391638</td>\n",
              "      <td>0.568634</td>\n",
              "      <td>0.756420</td>\n",
              "      <td>0.144608</td>\n",
              "      <td>0.279885</td>\n",
              "      <td>0.086463</td>\n",
              "      <td>0.280439</td>\n",
              "      <td>-0.092824</td>\n",
              "      <td>0.713202</td>\n",
              "      <td>0.731870</td>\n",
              "      <td>0.200355</td>\n",
              "      <td>0.326229</td>\n",
              "      <td>-0.002673</td>\n",
              "      <td>-0.279033</td>\n",
              "      <td>0.048858</td>\n",
              "      <td>0.334605</td>\n",
              "      <td>1.000000</td>\n",
              "      <td>0.183192</td>\n",
              "    </tr>\n",
              "    <tr>\n",
              "      <th>sqft_lot15</th>\n",
              "      <td>-0.138798</td>\n",
              "      <td>0.082447</td>\n",
              "      <td>0.029244</td>\n",
              "      <td>0.087175</td>\n",
              "      <td>0.183286</td>\n",
              "      <td>0.718557</td>\n",
              "      <td>-0.011269</td>\n",
              "      <td>0.030703</td>\n",
              "      <td>0.072575</td>\n",
              "      <td>-0.003406</td>\n",
              "      <td>0.119248</td>\n",
              "      <td>0.194050</td>\n",
              "      <td>0.017276</td>\n",
              "      <td>0.070958</td>\n",
              "      <td>0.007854</td>\n",
              "      <td>-0.147221</td>\n",
              "      <td>-0.086419</td>\n",
              "      <td>0.254451</td>\n",
              "      <td>0.183192</td>\n",
              "      <td>1.000000</td>\n",
              "    </tr>\n",
              "  </tbody>\n",
              "</table>\n",
              "</div>"
            ],
            "text/plain": [
              "                     id     price  ...  sqft_living15  sqft_lot15\n",
              "id             1.000000 -0.016762  ...      -0.002901   -0.138798\n",
              "price         -0.016762  1.000000  ...       0.585379    0.082447\n",
              "bedrooms       0.001286  0.308350  ...       0.391638    0.029244\n",
              "bathrooms      0.005160  0.525138  ...       0.568634    0.087175\n",
              "sqft_living   -0.012258  0.702035  ...       0.756420    0.183286\n",
              "sqft_lot      -0.132109  0.089661  ...       0.144608    0.718557\n",
              "floors         0.018525  0.256794  ...       0.279885   -0.011269\n",
              "waterfront    -0.002721  0.266369  ...       0.086463    0.030703\n",
              "view           0.011592  0.397293  ...       0.280439    0.072575\n",
              "condition     -0.023783  0.036362  ...      -0.092824   -0.003406\n",
              "grade          0.008130  0.667434  ...       0.713202    0.119248\n",
              "sqft_above    -0.010842  0.605567  ...       0.731870    0.194050\n",
              "sqft_basement -0.005151  0.323816  ...       0.200355    0.017276\n",
              "yr_built       0.021380  0.054012  ...       0.326229    0.070958\n",
              "yr_renovated  -0.016907  0.126434  ...      -0.002673    0.007854\n",
              "zipcode       -0.008224 -0.053203  ...      -0.279033   -0.147221\n",
              "lat           -0.001891  0.307003  ...       0.048858   -0.086419\n",
              "long           0.020799  0.021626  ...       0.334605    0.254451\n",
              "sqft_living15 -0.002901  0.585379  ...       1.000000    0.183192\n",
              "sqft_lot15    -0.138798  0.082447  ...       0.183192    1.000000\n",
              "\n",
              "[20 rows x 20 columns]"
            ]
          },
          "metadata": {
            "tags": []
          },
          "execution_count": 121
        }
      ]
    },
    {
      "cell_type": "code",
      "metadata": {
        "colab": {
          "base_uri": "https://localhost:8080/",
          "height": 299
        },
        "id": "-sS6QrswysVp",
        "outputId": "0a38d4d5-27f3-4e0f-edb9-7c2d0d4c0fe5"
      },
      "source": [
        "plt.plot(data['sqft_living'],data['price'],'o')\n",
        "plt.xlabel('Bed room$(no:of bedroom)$: as Independent variable')\n",
        "plt.ylabel('Price: as Dependent variable')\n",
        "plt.title('bedrroms Vs price');"
      ],
      "execution_count": null,
      "outputs": [
        {
          "output_type": "display_data",
          "data": {
            "image/png": "[encoded data removed]",
            "text/plain": [
              "<Figure size 432x288 with 1 Axes>"
            ]
          },
          "metadata": {
            "tags": [],
            "needs_background": "light"
          }
        }
      ]
    },
    {
      "cell_type": "code",
      "metadata": {
        "id": "XQrLPnRVFYg_"
      },
      "source": [
        "data = data.drop(['id','date'],axis=1)"
      ],
      "execution_count": null,
      "outputs": []
    },
    {
      "cell_type": "markdown",
      "metadata": {
        "id": "_8URNKKv0L8f"
      },
      "source": [
        "## Using Gradient descent python implementation"
      ]
    },
    {
      "cell_type": "code",
      "metadata": {
        "colab": {
          "base_uri": "https://localhost:8080/",
          "height": 374
        },
        "id": "K2uSyVXd9HCM",
        "outputId": "e5cf9732-edda-49cc-addf-859db0abd907"
      },
      "source": [
        "X_g = data.drop(['price','sqft_lot','floors','zipcode','lat','yr_built','yr_renovated','sqft_basement','sqft_living','view','long','sqft_above'],axis=1)\n",
        "#X_g = data.iloc[:,df.columns != ['price','sqft_lot','floors']]\n",
        "y_g = data['price']\n",
        "print(X_g.shape)\n",
        "X_g.head(10)"
      ],
      "execution_count": null,
      "outputs": [
        {
          "output_type": "stream",
          "text": [
            "(21613, 7)\n"
          ],
          "name": "stdout"
        },
        {
          "output_type": "execute_result",
          "data": {
            "text/html": [
              "<div>\n",
              "<style scoped>\n",
              "    .dataframe tbody tr th:only-of-type {\n",
              "        vertical-align: middle;\n",
              "    }\n",
              "\n",
              "    .dataframe tbody tr th {\n",
              "        vertical-align: top;\n",
              "    }\n",
              "\n",
              "    .dataframe thead th {\n",
              "        text-align: right;\n",
              "    }\n",
              "</style>\n",
              "<table border=\"1\" class=\"dataframe\">\n",
              "  <thead>\n",
              "    <tr style=\"text-align: right;\">\n",
              "      <th></th>\n",
              "      <th>bedrooms</th>\n",
              "      <th>bathrooms</th>\n",
              "      <th>waterfront</th>\n",
              "      <th>condition</th>\n",
              "      <th>grade</th>\n",
              "      <th>sqft_living15</th>\n",
              "      <th>sqft_lot15</th>\n",
              "    </tr>\n",
              "  </thead>\n",
              "  <tbody>\n",
              "    <tr>\n",
              "      <th>0</th>\n",
              "      <td>3</td>\n",
              "      <td>1.00</td>\n",
              "      <td>0</td>\n",
              "      <td>3</td>\n",
              "      <td>7</td>\n",
              "      <td>1340</td>\n",
              "      <td>5650</td>\n",
              "    </tr>\n",
              "    <tr>\n",
              "      <th>1</th>\n",
              "      <td>3</td>\n",
              "      <td>2.25</td>\n",
              "      <td>0</td>\n",
              "      <td>3</td>\n",
              "      <td>7</td>\n",
              "      <td>1690</td>\n",
              "      <td>7639</td>\n",
              "    </tr>\n",
              "    <tr>\n",
              "      <th>2</th>\n",
              "      <td>2</td>\n",
              "      <td>1.00</td>\n",
              "      <td>0</td>\n",
              "      <td>3</td>\n",
              "      <td>6</td>\n",
              "      <td>2720</td>\n",
              "      <td>8062</td>\n",
              "    </tr>\n",
              "    <tr>\n",
              "      <th>3</th>\n",
              "      <td>4</td>\n",
              "      <td>3.00</td>\n",
              "      <td>0</td>\n",
              "      <td>5</td>\n",
              "      <td>7</td>\n",
              "      <td>1360</td>\n",
              "      <td>5000</td>\n",
              "    </tr>\n",
              "    <tr>\n",
              "      <th>4</th>\n",
              "      <td>3</td>\n",
              "      <td>2.00</td>\n",
              "      <td>0</td>\n",
              "      <td>3</td>\n",
              "      <td>8</td>\n",
              "      <td>1800</td>\n",
              "      <td>7503</td>\n",
              "    </tr>\n",
              "    <tr>\n",
              "      <th>5</th>\n",
              "      <td>4</td>\n",
              "      <td>4.50</td>\n",
              "      <td>0</td>\n",
              "      <td>3</td>\n",
              "      <td>11</td>\n",
              "      <td>4760</td>\n",
              "      <td>101930</td>\n",
              "    </tr>\n",
              "    <tr>\n",
              "      <th>6</th>\n",
              "      <td>3</td>\n",
              "      <td>2.25</td>\n",
              "      <td>0</td>\n",
              "      <td>3</td>\n",
              "      <td>7</td>\n",
              "      <td>2238</td>\n",
              "      <td>6819</td>\n",
              "    </tr>\n",
              "    <tr>\n",
              "      <th>7</th>\n",
              "      <td>3</td>\n",
              "      <td>1.50</td>\n",
              "      <td>0</td>\n",
              "      <td>3</td>\n",
              "      <td>7</td>\n",
              "      <td>1650</td>\n",
              "      <td>9711</td>\n",
              "    </tr>\n",
              "    <tr>\n",
              "      <th>8</th>\n",
              "      <td>3</td>\n",
              "      <td>1.00</td>\n",
              "      <td>0</td>\n",
              "      <td>3</td>\n",
              "      <td>7</td>\n",
              "      <td>1780</td>\n",
              "      <td>8113</td>\n",
              "    </tr>\n",
              "    <tr>\n",
              "      <th>9</th>\n",
              "      <td>3</td>\n",
              "      <td>2.50</td>\n",
              "      <td>0</td>\n",
              "      <td>3</td>\n",
              "      <td>7</td>\n",
              "      <td>2390</td>\n",
              "      <td>7570</td>\n",
              "    </tr>\n",
              "  </tbody>\n",
              "</table>\n",
              "</div>"
            ],
            "text/plain": [
              "   bedrooms  bathrooms  waterfront  condition  grade  sqft_living15  sqft_lot15\n",
              "0         3       1.00           0          3      7           1340        5650\n",
              "1         3       2.25           0          3      7           1690        7639\n",
              "2         2       1.00           0          3      6           2720        8062\n",
              "3         4       3.00           0          5      7           1360        5000\n",
              "4         3       2.00           0          3      8           1800        7503\n",
              "5         4       4.50           0          3     11           4760      101930\n",
              "6         3       2.25           0          3      7           2238        6819\n",
              "7         3       1.50           0          3      7           1650        9711\n",
              "8         3       1.00           0          3      7           1780        8113\n",
              "9         3       2.50           0          3      7           2390        7570"
            ]
          },
          "metadata": {
            "tags": []
          },
          "execution_count": 226
        }
      ]
    },
    {
      "cell_type": "code",
      "metadata": {
        "id": "weHA2Y3h9-Zq"
      },
      "source": [
        "from sklearn.model_selection import train_test_split\n",
        "X_g_train,X_g_test,y_g_train,y_g_labels = train_test_split(X_g,y_g,random_state = 0 )"
      ],
      "execution_count": null,
      "outputs": []
    },
    {
      "cell_type": "code",
      "metadata": {
        "colab": {
          "base_uri": "https://localhost:8080/"
        },
        "id": "BwH7h-Bo9uLk",
        "outputId": "1c0c2d49-32de-4ef1-ae45-8e1f024e30c4"
      },
      "source": [
        "#initialising weight vector\n",
        "theta = np.ones([X_g.shape[1]+1,1],dtype='float64')\n",
        "# appending X_0 as ones to training and testing data\n",
        "X_g_train_0 = np.c_[np.ones((X_g_train.shape[0],1)),X_g_train]\n",
        "X_g_test_0 = np.c_[np.ones((X_g_test.shape[0],1)),X_g_test]\n",
        "theta.shape"
      ],
      "execution_count": null,
      "outputs": [
        {
          "output_type": "execute_result",
          "data": {
            "text/plain": [
              "(8, 1)"
            ]
          },
          "metadata": {
            "tags": []
          },
          "execution_count": 228
        }
      ]
    },
    {
      "cell_type": "code",
      "metadata": {
        "colab": {
          "base_uri": "https://localhost:8080/"
        },
        "id": "JwqGcdvW9HFL",
        "outputId": "46141f31-d9f1-4758-d8d2-df2905cb85da"
      },
      "source": [
        "print(X_g_train.shape)\n",
        "print(X_g_train_0.shape)\n",
        "print(y_g_train.shape)"
      ],
      "execution_count": null,
      "outputs": [
        {
          "output_type": "stream",
          "text": [
            "(16209, 7)\n",
            "(16209, 8)\n",
            "(16209,)\n"
          ],
          "name": "stdout"
        }
      ]
    },
    {
      "cell_type": "code",
      "metadata": {
        "colab": {
          "base_uri": "https://localhost:8080/"
        },
        "id": "BbxSDBDABkUU",
        "outputId": "7508c3db-4423-4422-8efc-93000ab390fb"
      },
      "source": [
        "print(theta.size)"
      ],
      "execution_count": null,
      "outputs": [
        {
          "output_type": "stream",
          "text": [
            "8\n"
          ],
          "name": "stdout"
        }
      ]
    },
    {
      "cell_type": "code",
      "metadata": {
        "id": "2AJ2l-8t9HIg"
      },
      "source": [
        "def hypothesis(X,theta):\n",
        "  f = np.sum(np.matmul(X,theta))\n",
        "  return f"
      ],
      "execution_count": null,
      "outputs": []
    },
    {
      "cell_type": "code",
      "metadata": {
        "id": "5GHrCd7y9HlQ"
      },
      "source": [
        "def costfunction(X,y,theta):\n",
        "  m = X.shape[0]\n",
        "  j = 1/(2*m)*np.sum(np.square(np.subtract(hypothesis(X,theta),y)))\n",
        "  return j"
      ],
      "execution_count": null,
      "outputs": []
    },
    {
      "cell_type": "code",
      "metadata": {
        "colab": {
          "base_uri": "https://localhost:8080/"
        },
        "id": "eAjGT70jQGT2",
        "outputId": "327af7b8-562e-4686-97c6-104f593abf64"
      },
      "source": [
        "cost = costfunction(X_g_train_0,y_g_train,theta)\n",
        "cost"
      ],
      "execution_count": null,
      "outputs": [
        {
          "output_type": "execute_result",
          "data": {
            "text/plain": [
              "2.8891854906041256e+16"
            ]
          },
          "metadata": {
            "tags": []
          },
          "execution_count": 233
        }
      ]
    },
    {
      "cell_type": "code",
      "metadata": {
        "id": "QuY7ODeS9HpE"
      },
      "source": [
        "def Linear_reg_gradient_descent(X,y,alpha,epoch,theta):\n",
        "  m = X.shape[0] # size of training set\n",
        "  n = X.shape[1] # no:of independent variables\n",
        "  \n",
        "\n",
        "  cost = np.ones(epoch)\n",
        "  for i in range(0,epoch):\n",
        "    theta[0] = theta[0] - (alpha/X.shape[0])*np.sum(np.subtract(hypothesis(X,theta),y))\n",
        "    for j in range(1,n):\n",
        "       theta[j] = theta[j] - (alpha/X.shape[0])*np.sum(np.subtract(hypothesis(X,theta),y)*X[:,j])\n",
        "    cost[i] = costfunction(X,y,theta)\n",
        "  return cost,theta                                          \n",
        "                                              \n",
        "\n",
        "   "
      ],
      "execution_count": null,
      "outputs": []
    },
    {
      "cell_type": "code",
      "metadata": {
        "colab": {
          "base_uri": "https://localhost:8080/"
        },
        "id": "Dtd9A3vh9Htc",
        "outputId": "8d0faf27-d3ee-4046-9612-bbdd8a54b05b"
      },
      "source": [
        "cost,theta = Linear_reg_gradient_descent(X_g_train_0,y_g_train,0.001,2000,theta)"
      ],
      "execution_count": null,
      "outputs": [
        {
          "output_type": "stream",
          "text": [
            "/usr/local/lib/python3.7/dist-packages/pandas/core/series.py:726: RuntimeWarning: overflow encountered in square\n",
            "  result = getattr(ufunc, method)(*inputs, **kwargs)\n",
            "/usr/local/lib/python3.7/dist-packages/ipykernel_launcher.py:2: RuntimeWarning: invalid value encountered in matmul\n",
            "  \n"
          ],
          "name": "stderr"
        }
      ]
    },
    {
      "cell_type": "code",
      "metadata": {
        "colab": {
          "base_uri": "https://localhost:8080/"
        },
        "id": "OVL2xFHhUXcQ",
        "outputId": "bd5c0f55-aeea-4a4e-ca0a-ad2faf04c01e"
      },
      "source": [
        "theta"
      ],
      "execution_count": null,
      "outputs": [
        {
          "output_type": "execute_result",
          "data": {
            "text/plain": [
              "array([[             inf],\n",
              "       [ 8.48360824e+284],\n",
              "       [-9.76001840e+286],\n",
              "       [ 2.65070942e+286],\n",
              "       [ 1.12458254e+289],\n",
              "       [-4.73018308e+291],\n",
              "       [ 1.16577875e+297],\n",
              "       [            -inf]])"
            ]
          },
          "metadata": {
            "tags": []
          },
          "execution_count": 236
        }
      ]
    },
    {
      "cell_type": "code",
      "metadata": {
        "colab": {
          "base_uri": "https://localhost:8080/"
        },
        "id": "H9R5jONZU-cL",
        "outputId": "28981ab7-e7e4-4309-8dbd-c9522408054f"
      },
      "source": [
        "cost"
      ],
      "execution_count": null,
      "outputs": [
        {
          "output_type": "execute_result",
          "data": {
            "text/plain": [
              "array([1.06757119e+072, 3.94467855e+127, 1.45755983e+183, ...,\n",
              "       0.00000000e+000, 0.00000000e+000, 0.00000000e+000])"
            ]
          },
          "metadata": {
            "tags": []
          },
          "execution_count": 237
        }
      ]
    },
    {
      "cell_type": "code",
      "metadata": {
        "colab": {
          "base_uri": "https://localhost:8080/",
          "height": 294
        },
        "id": "eNAxNXyKib1t",
        "outputId": "990dde4e-1333-423b-e0f3-424e2038b917"
      },
      "source": [
        "plt.plot(cost)"
      ],
      "execution_count": null,
      "outputs": [
        {
          "output_type": "execute_result",
          "data": {
            "text/plain": [
              "[<matplotlib.lines.Line2D at 0x7fd3ad5f70d0>]"
            ]
          },
          "metadata": {
            "tags": []
          },
          "execution_count": 238
        },
        {
          "output_type": "display_data",
          "data": {
            "image/png": "[encoded data removed]",
            "text/plain": [
              "<Figure size 432x288 with 1 Axes>"
            ]
          },
          "metadata": {
            "tags": [],
            "needs_background": "light"
          }
        }
      ]
    },
    {
      "cell_type": "markdown",
      "metadata": {
        "id": "nnz8vyLx0WOZ"
      },
      "source": [
        " ## Model building using SKlearn"
      ]
    },
    {
      "cell_type": "code",
      "metadata": {
        "id": "t5GepdBmJ43n",
        "colab": {
          "base_uri": "https://localhost:8080/",
          "height": 223
        },
        "outputId": "1df40ca3-8346-4c0c-e0f7-f3f24442ba6d"
      },
      "source": [
        "df = data\n",
        "data.head()\n"
      ],
      "execution_count": null,
      "outputs": [
        {
          "output_type": "execute_result",
          "data": {
            "text/html": [
              "<div>\n",
              "<style scoped>\n",
              "    .dataframe tbody tr th:only-of-type {\n",
              "        vertical-align: middle;\n",
              "    }\n",
              "\n",
              "    .dataframe tbody tr th {\n",
              "        vertical-align: top;\n",
              "    }\n",
              "\n",
              "    .dataframe thead th {\n",
              "        text-align: right;\n",
              "    }\n",
              "</style>\n",
              "<table border=\"1\" class=\"dataframe\">\n",
              "  <thead>\n",
              "    <tr style=\"text-align: right;\">\n",
              "      <th></th>\n",
              "      <th>price</th>\n",
              "      <th>bedrooms</th>\n",
              "      <th>bathrooms</th>\n",
              "      <th>sqft_living</th>\n",
              "      <th>sqft_lot</th>\n",
              "      <th>floors</th>\n",
              "      <th>waterfront</th>\n",
              "      <th>view</th>\n",
              "      <th>condition</th>\n",
              "      <th>grade</th>\n",
              "      <th>sqft_above</th>\n",
              "      <th>sqft_basement</th>\n",
              "      <th>yr_built</th>\n",
              "      <th>yr_renovated</th>\n",
              "      <th>zipcode</th>\n",
              "      <th>lat</th>\n",
              "      <th>long</th>\n",
              "      <th>sqft_living15</th>\n",
              "      <th>sqft_lot15</th>\n",
              "    </tr>\n",
              "  </thead>\n",
              "  <tbody>\n",
              "    <tr>\n",
              "      <th>0</th>\n",
              "      <td>221900.0</td>\n",
              "      <td>3</td>\n",
              "      <td>1.00</td>\n",
              "      <td>1180</td>\n",
              "      <td>5650</td>\n",
              "      <td>1.0</td>\n",
              "      <td>0</td>\n",
              "      <td>0</td>\n",
              "      <td>3</td>\n",
              "      <td>7</td>\n",
              "      <td>1180</td>\n",
              "      <td>0</td>\n",
              "      <td>1955</td>\n",
              "      <td>0</td>\n",
              "      <td>98178</td>\n",
              "      <td>47.5112</td>\n",
              "      <td>-122.257</td>\n",
              "      <td>1340</td>\n",
              "      <td>5650</td>\n",
              "    </tr>\n",
              "    <tr>\n",
              "      <th>1</th>\n",
              "      <td>538000.0</td>\n",
              "      <td>3</td>\n",
              "      <td>2.25</td>\n",
              "      <td>2570</td>\n",
              "      <td>7242</td>\n",
              "      <td>2.0</td>\n",
              "      <td>0</td>\n",
              "      <td>0</td>\n",
              "      <td>3</td>\n",
              "      <td>7</td>\n",
              "      <td>2170</td>\n",
              "      <td>400</td>\n",
              "      <td>1951</td>\n",
              "      <td>1991</td>\n",
              "      <td>98125</td>\n",
              "      <td>47.7210</td>\n",
              "      <td>-122.319</td>\n",
              "      <td>1690</td>\n",
              "      <td>7639</td>\n",
              "    </tr>\n",
              "    <tr>\n",
              "      <th>2</th>\n",
              "      <td>180000.0</td>\n",
              "      <td>2</td>\n",
              "      <td>1.00</td>\n",
              "      <td>770</td>\n",
              "      <td>10000</td>\n",
              "      <td>1.0</td>\n",
              "      <td>0</td>\n",
              "      <td>0</td>\n",
              "      <td>3</td>\n",
              "      <td>6</td>\n",
              "      <td>770</td>\n",
              "      <td>0</td>\n",
              "      <td>1933</td>\n",
              "      <td>0</td>\n",
              "      <td>98028</td>\n",
              "      <td>47.7379</td>\n",
              "      <td>-122.233</td>\n",
              "      <td>2720</td>\n",
              "      <td>8062</td>\n",
              "    </tr>\n",
              "    <tr>\n",
              "      <th>3</th>\n",
              "      <td>604000.0</td>\n",
              "      <td>4</td>\n",
              "      <td>3.00</td>\n",
              "      <td>1960</td>\n",
              "      <td>5000</td>\n",
              "      <td>1.0</td>\n",
              "      <td>0</td>\n",
              "      <td>0</td>\n",
              "      <td>5</td>\n",
              "      <td>7</td>\n",
              "      <td>1050</td>\n",
              "      <td>910</td>\n",
              "      <td>1965</td>\n",
              "      <td>0</td>\n",
              "      <td>98136</td>\n",
              "      <td>47.5208</td>\n",
              "      <td>-122.393</td>\n",
              "      <td>1360</td>\n",
              "      <td>5000</td>\n",
              "    </tr>\n",
              "    <tr>\n",
              "      <th>4</th>\n",
              "      <td>510000.0</td>\n",
              "      <td>3</td>\n",
              "      <td>2.00</td>\n",
              "      <td>1680</td>\n",
              "      <td>8080</td>\n",
              "      <td>1.0</td>\n",
              "      <td>0</td>\n",
              "      <td>0</td>\n",
              "      <td>3</td>\n",
              "      <td>8</td>\n",
              "      <td>1680</td>\n",
              "      <td>0</td>\n",
              "      <td>1987</td>\n",
              "      <td>0</td>\n",
              "      <td>98074</td>\n",
              "      <td>47.6168</td>\n",
              "      <td>-122.045</td>\n",
              "      <td>1800</td>\n",
              "      <td>7503</td>\n",
              "    </tr>\n",
              "  </tbody>\n",
              "</table>\n",
              "</div>"
            ],
            "text/plain": [
              "      price  bedrooms  bathrooms  ...     long  sqft_living15  sqft_lot15\n",
              "0  221900.0         3       1.00  ... -122.257           1340        5650\n",
              "1  538000.0         3       2.25  ... -122.319           1690        7639\n",
              "2  180000.0         2       1.00  ... -122.233           2720        8062\n",
              "3  604000.0         4       3.00  ... -122.393           1360        5000\n",
              "4  510000.0         3       2.00  ... -122.045           1800        7503\n",
              "\n",
              "[5 rows x 19 columns]"
            ]
          },
          "metadata": {
            "tags": []
          },
          "execution_count": 137
        }
      ]
    },
    {
      "cell_type": "code",
      "metadata": {
        "id": "gCLazmE-0jWC"
      },
      "source": [
        "## sampling the data\n",
        "\n",
        "X = df.iloc[:,df.columns != 'price']\n",
        "y = df['price']"
      ],
      "execution_count": null,
      "outputs": []
    },
    {
      "cell_type": "code",
      "metadata": {
        "id": "Pwnk_eHN1hLi",
        "colab": {
          "base_uri": "https://localhost:8080/",
          "height": 223
        },
        "outputId": "e93fb1e6-4b35-448c-dcdc-0ea97dd508cd"
      },
      "source": [
        "X.head()"
      ],
      "execution_count": null,
      "outputs": [
        {
          "output_type": "execute_result",
          "data": {
            "text/html": [
              "<div>\n",
              "<style scoped>\n",
              "    .dataframe tbody tr th:only-of-type {\n",
              "        vertical-align: middle;\n",
              "    }\n",
              "\n",
              "    .dataframe tbody tr th {\n",
              "        vertical-align: top;\n",
              "    }\n",
              "\n",
              "    .dataframe thead th {\n",
              "        text-align: right;\n",
              "    }\n",
              "</style>\n",
              "<table border=\"1\" class=\"dataframe\">\n",
              "  <thead>\n",
              "    <tr style=\"text-align: right;\">\n",
              "      <th></th>\n",
              "      <th>bedrooms</th>\n",
              "      <th>bathrooms</th>\n",
              "      <th>sqft_living</th>\n",
              "      <th>sqft_lot</th>\n",
              "      <th>floors</th>\n",
              "      <th>waterfront</th>\n",
              "      <th>view</th>\n",
              "      <th>condition</th>\n",
              "      <th>grade</th>\n",
              "      <th>sqft_above</th>\n",
              "      <th>sqft_basement</th>\n",
              "      <th>yr_built</th>\n",
              "      <th>yr_renovated</th>\n",
              "      <th>zipcode</th>\n",
              "      <th>lat</th>\n",
              "      <th>long</th>\n",
              "      <th>sqft_living15</th>\n",
              "      <th>sqft_lot15</th>\n",
              "    </tr>\n",
              "  </thead>\n",
              "  <tbody>\n",
              "    <tr>\n",
              "      <th>0</th>\n",
              "      <td>3</td>\n",
              "      <td>1.00</td>\n",
              "      <td>1180</td>\n",
              "      <td>5650</td>\n",
              "      <td>1.0</td>\n",
              "      <td>0</td>\n",
              "      <td>0</td>\n",
              "      <td>3</td>\n",
              "      <td>7</td>\n",
              "      <td>1180</td>\n",
              "      <td>0</td>\n",
              "      <td>1955</td>\n",
              "      <td>0</td>\n",
              "      <td>98178</td>\n",
              "      <td>47.5112</td>\n",
              "      <td>-122.257</td>\n",
              "      <td>1340</td>\n",
              "      <td>5650</td>\n",
              "    </tr>\n",
              "    <tr>\n",
              "      <th>1</th>\n",
              "      <td>3</td>\n",
              "      <td>2.25</td>\n",
              "      <td>2570</td>\n",
              "      <td>7242</td>\n",
              "      <td>2.0</td>\n",
              "      <td>0</td>\n",
              "      <td>0</td>\n",
              "      <td>3</td>\n",
              "      <td>7</td>\n",
              "      <td>2170</td>\n",
              "      <td>400</td>\n",
              "      <td>1951</td>\n",
              "      <td>1991</td>\n",
              "      <td>98125</td>\n",
              "      <td>47.7210</td>\n",
              "      <td>-122.319</td>\n",
              "      <td>1690</td>\n",
              "      <td>7639</td>\n",
              "    </tr>\n",
              "    <tr>\n",
              "      <th>2</th>\n",
              "      <td>2</td>\n",
              "      <td>1.00</td>\n",
              "      <td>770</td>\n",
              "      <td>10000</td>\n",
              "      <td>1.0</td>\n",
              "      <td>0</td>\n",
              "      <td>0</td>\n",
              "      <td>3</td>\n",
              "      <td>6</td>\n",
              "      <td>770</td>\n",
              "      <td>0</td>\n",
              "      <td>1933</td>\n",
              "      <td>0</td>\n",
              "      <td>98028</td>\n",
              "      <td>47.7379</td>\n",
              "      <td>-122.233</td>\n",
              "      <td>2720</td>\n",
              "      <td>8062</td>\n",
              "    </tr>\n",
              "    <tr>\n",
              "      <th>3</th>\n",
              "      <td>4</td>\n",
              "      <td>3.00</td>\n",
              "      <td>1960</td>\n",
              "      <td>5000</td>\n",
              "      <td>1.0</td>\n",
              "      <td>0</td>\n",
              "      <td>0</td>\n",
              "      <td>5</td>\n",
              "      <td>7</td>\n",
              "      <td>1050</td>\n",
              "      <td>910</td>\n",
              "      <td>1965</td>\n",
              "      <td>0</td>\n",
              "      <td>98136</td>\n",
              "      <td>47.5208</td>\n",
              "      <td>-122.393</td>\n",
              "      <td>1360</td>\n",
              "      <td>5000</td>\n",
              "    </tr>\n",
              "    <tr>\n",
              "      <th>4</th>\n",
              "      <td>3</td>\n",
              "      <td>2.00</td>\n",
              "      <td>1680</td>\n",
              "      <td>8080</td>\n",
              "      <td>1.0</td>\n",
              "      <td>0</td>\n",
              "      <td>0</td>\n",
              "      <td>3</td>\n",
              "      <td>8</td>\n",
              "      <td>1680</td>\n",
              "      <td>0</td>\n",
              "      <td>1987</td>\n",
              "      <td>0</td>\n",
              "      <td>98074</td>\n",
              "      <td>47.6168</td>\n",
              "      <td>-122.045</td>\n",
              "      <td>1800</td>\n",
              "      <td>7503</td>\n",
              "    </tr>\n",
              "  </tbody>\n",
              "</table>\n",
              "</div>"
            ],
            "text/plain": [
              "   bedrooms  bathrooms  sqft_living  ...     long  sqft_living15  sqft_lot15\n",
              "0         3       1.00         1180  ... -122.257           1340        5650\n",
              "1         3       2.25         2570  ... -122.319           1690        7639\n",
              "2         2       1.00          770  ... -122.233           2720        8062\n",
              "3         4       3.00         1960  ... -122.393           1360        5000\n",
              "4         3       2.00         1680  ... -122.045           1800        7503\n",
              "\n",
              "[5 rows x 18 columns]"
            ]
          },
          "metadata": {
            "tags": []
          },
          "execution_count": 16
        }
      ]
    },
    {
      "cell_type": "markdown",
      "metadata": {
        "id": "-BoDkKiq0gg6"
      },
      "source": [
        " ### spliting the data set"
      ]
    },
    {
      "cell_type": "code",
      "metadata": {
        "colab": {
          "base_uri": "https://localhost:8080/"
        },
        "id": "Gaq4_nI_tFmy",
        "outputId": "3d1d85e3-f1f9-4721-f15a-e0f21c5fa0c3"
      },
      "source": [
        "from sklearn.model_selection import train_test_split\n",
        "#X_train,y_train,X_test,y_test = train_test_split(X,y,test_size=0.3,random_state=0)\n",
        "X_train,X_test,y_train,y_test = train_test_split(X,y,test_size=0.3,random_state=0)\n",
        "print(\"Shape of X \",X_train.shape)\n",
        "print(\"Shape of y\",y_train.shape)"
      ],
      "execution_count": null,
      "outputs": [
        {
          "output_type": "stream",
          "text": [
            "Shape of X  (15129, 18)\n",
            "Shape of y (15129,)\n"
          ],
          "name": "stdout"
        }
      ]
    },
    {
      "cell_type": "code",
      "metadata": {
        "colab": {
          "base_uri": "https://localhost:8080/"
        },
        "id": "dWWCUKQLtK7U",
        "outputId": "5df875d2-e83e-450c-8b79-b6ed1c1f0fc4"
      },
      "source": [
        "# Using Lasso regression\n",
        "from sklearn.linear_model import Lasso\n",
        "l1_reg = Lasso(alpha = 0.01,max_iter=10000).fit(X_train,y_train)"
      ],
      "execution_count": null,
      "outputs": [
        {
          "output_type": "stream",
          "text": [
            "/usr/local/lib/python3.7/dist-packages/sklearn/linear_model/_coordinate_descent.py:476: ConvergenceWarning: Objective did not converge. You might want to increase the number of iterations. Duality gap: 272403278294242.2, tolerance: 202270218611.5126\n",
            "  positive)\n"
          ],
          "name": "stderr"
        }
      ]
    },
    {
      "cell_type": "code",
      "metadata": {
        "id": "FBrdh4qavqVL"
      },
      "source": [
        "# Using Rigdge regression\n",
        "from sklearn.linear_model import Ridge\n",
        "l2_reg = Ridge(alpha = 0.01, max_iter=1000).fit(X_train,y_train)"
      ],
      "execution_count": null,
      "outputs": []
    },
    {
      "cell_type": "code",
      "metadata": {
        "id": "mc6gu8KPNHDu",
        "colab": {
          "base_uri": "https://localhost:8080/"
        },
        "outputId": "a20cab56-e7aa-47ff-e30a-82c13901ddb1"
      },
      "source": [
        "# using Linear Regrssion model\n",
        "from sklearn.linear_model import LinearRegression\n",
        "regressor = LinearRegression()\n",
        "regressor.fit(X_train, y_train)"
      ],
      "execution_count": null,
      "outputs": [
        {
          "output_type": "execute_result",
          "data": {
            "text/plain": [
              "LinearRegression(copy_X=True, fit_intercept=True, n_jobs=None, normalize=False)"
            ]
          },
          "metadata": {
            "tags": []
          },
          "execution_count": 23
        }
      ]
    },
    {
      "cell_type": "code",
      "metadata": {
        "colab": {
          "base_uri": "https://localhost:8080/"
        },
        "id": "fc_Mp5wcON0t",
        "outputId": "03d69d32-7268-41e1-9d9c-9dd88e9fc4de"
      },
      "source": [
        "from sklearn.metrics.regression import r2_score\n",
        "ridge_loss = l1_reg.score(X_test,y_test)\n",
        "print(ridge_loss)"
      ],
      "execution_count": null,
      "outputs": [
        {
          "output_type": "stream",
          "text": [
            "0.6877907526726603\n"
          ],
          "name": "stdout"
        }
      ]
    },
    {
      "cell_type": "code",
      "metadata": {
        "colab": {
          "base_uri": "https://localhost:8080/"
        },
        "id": "EsQGT0j_OTNI",
        "outputId": "60a1dd59-d263-4b2b-897d-9f944f68d6b1"
      },
      "source": [
        "# Performance evaluation\n",
        "from sklearn.metrics.regression import r2_score\n",
        "lasso_score = l1_reg.score(X_test,y_test)\n",
        "ridge_score = l2_reg.score(X_test,y_test)\n",
        "regressor_score = regressor.score(X_test,y_test)\n",
        "print('Lasso model score: ',lasso_score)\n",
        "print('Ridge model score: ',ridge_score)\n",
        "print('Linar Regression model score: ',regressor_score)"
      ],
      "execution_count": null,
      "outputs": [
        {
          "output_type": "stream",
          "text": [
            "Lasso model score:  0.6877904446624703\n",
            "Ridge model score:  0.6877904446624703\n",
            "Linar Regression model score:  0.6877902899299173\n"
          ],
          "name": "stdout"
        }
      ]
    },
    {
      "cell_type": "code",
      "metadata": {
        "colab": {
          "base_uri": "https://localhost:8080/"
        },
        "id": "veti3Cd4rBmY",
        "outputId": "3961c749-eca1-477e-bebd-f59913ba57ff"
      },
      "source": [
        "l2_reg.coef_"
      ],
      "execution_count": null,
      "outputs": [
        {
          "output_type": "execute_result",
          "data": {
            "text/plain": [
              "array([-3.11943100e+04,  3.70364954e+04,  1.06421113e+02,  2.38747434e-01,\n",
              "        1.20281997e+04,  5.91454572e+05,  5.34947180e+04,  2.65776479e+04,\n",
              "        9.57194730e+04,  6.48919094e+01,  4.16965297e+01, -2.58202292e+03,\n",
              "        1.60387872e+01, -5.25137777e+02,  6.06411298e+05, -2.05308331e+05,\n",
              "        2.88415176e+01, -4.77599019e-01])"
            ]
          },
          "metadata": {
            "tags": []
          },
          "execution_count": 28
        }
      ]
    },
    {
      "cell_type": "markdown",
      "metadata": {
        "id": "_dUeA15l4PUu"
      },
      "source": [
        " ### Removing correlated features"
      ]
    },
    {
      "cell_type": "code",
      "metadata": {
        "id": "4ZSIvLsLdV-G"
      },
      "source": [
        "for i in range(len(correlation_matrix.columns)):\n",
        "  for j in range(i ):\n",
        "    if abs(correlation_matrix.iloc[i,j])>0.8:\n",
        "      col_name = correlation_matrix.columns[i]\n",
        "      correlated_features.add(col_name)"
      ],
      "execution_count": null,
      "outputs": []
    },
    {
      "cell_type": "code",
      "metadata": {
        "colab": {
          "base_uri": "https://localhost:8080/"
        },
        "id": "z_lGXlVNkgrz",
        "outputId": "116b962c-f755-404d-c4f8-d4dee0d0c9cf"
      },
      "source": [
        "print(correlated_features)"
      ],
      "execution_count": null,
      "outputs": [
        {
          "output_type": "stream",
          "text": [
            "{'sqft_above'}\n"
          ],
          "name": "stdout"
        }
      ]
    },
    {
      "cell_type": "code",
      "metadata": {
        "colab": {
          "base_uri": "https://localhost:8080/"
        },
        "id": "3ofDVD4wg14C",
        "outputId": "136c286c-42d9-4de7-fde6-a7fbaa368181"
      },
      "source": [
        "train_features,test_features,train_labels,test_labels = train_test_split(X,y,test_size=0.3,random_state=0)\n",
        "train_features.shape"
      ],
      "execution_count": null,
      "outputs": [
        {
          "output_type": "execute_result",
          "data": {
            "text/plain": [
              "(15129, 18)"
            ]
          },
          "metadata": {
            "tags": []
          },
          "execution_count": 33
        }
      ]
    },
    {
      "cell_type": "code",
      "metadata": {
        "colab": {
          "base_uri": "https://localhost:8080/"
        },
        "id": "F1BD5lebhsSa",
        "outputId": "3753275e-2513-4ca6-f20d-4941fdbe844f"
      },
      "source": [
        "train_features.drop(labels = correlated_features, axis=1, inplace =True)\n",
        "test_features.drop(labels = correlated_features, axis =1, inplace =True)"
      ],
      "execution_count": null,
      "outputs": [
        {
          "output_type": "stream",
          "text": [
            "/usr/local/lib/python3.7/dist-packages/pandas/core/frame.py:4174: SettingWithCopyWarning: \n",
            "A value is trying to be set on a copy of a slice from a DataFrame\n",
            "\n",
            "See the caveats in the documentation: https://pandas.pydata.org/pandas-docs/stable/user_guide/indexing.html#returning-a-view-versus-a-copy\n",
            "  errors=errors,\n"
          ],
          "name": "stderr"
        }
      ]
    },
    {
      "cell_type": "code",
      "metadata": {
        "colab": {
          "base_uri": "https://localhost:8080/",
          "height": 223
        },
        "id": "MsTHPxqrl8xl",
        "outputId": "38351299-c744-45d4-9eeb-1e52de8c7614"
      },
      "source": [
        "train_features.head()"
      ],
      "execution_count": null,
      "outputs": [
        {
          "output_type": "execute_result",
          "data": {
            "text/html": [
              "<div>\n",
              "<style scoped>\n",
              "    .dataframe tbody tr th:only-of-type {\n",
              "        vertical-align: middle;\n",
              "    }\n",
              "\n",
              "    .dataframe tbody tr th {\n",
              "        vertical-align: top;\n",
              "    }\n",
              "\n",
              "    .dataframe thead th {\n",
              "        text-align: right;\n",
              "    }\n",
              "</style>\n",
              "<table border=\"1\" class=\"dataframe\">\n",
              "  <thead>\n",
              "    <tr style=\"text-align: right;\">\n",
              "      <th></th>\n",
              "      <th>bedrooms</th>\n",
              "      <th>bathrooms</th>\n",
              "      <th>sqft_living</th>\n",
              "      <th>sqft_lot</th>\n",
              "      <th>floors</th>\n",
              "      <th>waterfront</th>\n",
              "      <th>view</th>\n",
              "      <th>condition</th>\n",
              "      <th>grade</th>\n",
              "      <th>sqft_basement</th>\n",
              "      <th>yr_built</th>\n",
              "      <th>yr_renovated</th>\n",
              "      <th>zipcode</th>\n",
              "      <th>lat</th>\n",
              "      <th>long</th>\n",
              "      <th>sqft_living15</th>\n",
              "      <th>sqft_lot15</th>\n",
              "    </tr>\n",
              "  </thead>\n",
              "  <tbody>\n",
              "    <tr>\n",
              "      <th>1468</th>\n",
              "      <td>4</td>\n",
              "      <td>1.50</td>\n",
              "      <td>1390</td>\n",
              "      <td>7200</td>\n",
              "      <td>1.0</td>\n",
              "      <td>0</td>\n",
              "      <td>0</td>\n",
              "      <td>3</td>\n",
              "      <td>7</td>\n",
              "      <td>250</td>\n",
              "      <td>1965</td>\n",
              "      <td>0</td>\n",
              "      <td>98133</td>\n",
              "      <td>47.7224</td>\n",
              "      <td>-122.332</td>\n",
              "      <td>1630</td>\n",
              "      <td>7702</td>\n",
              "    </tr>\n",
              "    <tr>\n",
              "      <th>15590</th>\n",
              "      <td>3</td>\n",
              "      <td>1.50</td>\n",
              "      <td>1450</td>\n",
              "      <td>7316</td>\n",
              "      <td>1.0</td>\n",
              "      <td>0</td>\n",
              "      <td>0</td>\n",
              "      <td>3</td>\n",
              "      <td>7</td>\n",
              "      <td>0</td>\n",
              "      <td>1961</td>\n",
              "      <td>0</td>\n",
              "      <td>98133</td>\n",
              "      <td>47.7725</td>\n",
              "      <td>-122.349</td>\n",
              "      <td>1440</td>\n",
              "      <td>7316</td>\n",
              "    </tr>\n",
              "    <tr>\n",
              "      <th>18552</th>\n",
              "      <td>5</td>\n",
              "      <td>2.75</td>\n",
              "      <td>2860</td>\n",
              "      <td>5379</td>\n",
              "      <td>2.0</td>\n",
              "      <td>0</td>\n",
              "      <td>0</td>\n",
              "      <td>3</td>\n",
              "      <td>9</td>\n",
              "      <td>0</td>\n",
              "      <td>2005</td>\n",
              "      <td>0</td>\n",
              "      <td>98052</td>\n",
              "      <td>47.7082</td>\n",
              "      <td>-122.104</td>\n",
              "      <td>2980</td>\n",
              "      <td>6018</td>\n",
              "    </tr>\n",
              "    <tr>\n",
              "      <th>10535</th>\n",
              "      <td>2</td>\n",
              "      <td>1.00</td>\n",
              "      <td>1050</td>\n",
              "      <td>4125</td>\n",
              "      <td>1.0</td>\n",
              "      <td>0</td>\n",
              "      <td>0</td>\n",
              "      <td>4</td>\n",
              "      <td>7</td>\n",
              "      <td>0</td>\n",
              "      <td>1909</td>\n",
              "      <td>0</td>\n",
              "      <td>98144</td>\n",
              "      <td>47.5736</td>\n",
              "      <td>-122.307</td>\n",
              "      <td>1650</td>\n",
              "      <td>4125</td>\n",
              "    </tr>\n",
              "    <tr>\n",
              "      <th>1069</th>\n",
              "      <td>2</td>\n",
              "      <td>1.00</td>\n",
              "      <td>1240</td>\n",
              "      <td>57000</td>\n",
              "      <td>1.0</td>\n",
              "      <td>0</td>\n",
              "      <td>0</td>\n",
              "      <td>3</td>\n",
              "      <td>7</td>\n",
              "      <td>0</td>\n",
              "      <td>1962</td>\n",
              "      <td>0</td>\n",
              "      <td>98075</td>\n",
              "      <td>47.5970</td>\n",
              "      <td>-122.059</td>\n",
              "      <td>3050</td>\n",
              "      <td>25545</td>\n",
              "    </tr>\n",
              "  </tbody>\n",
              "</table>\n",
              "</div>"
            ],
            "text/plain": [
              "       bedrooms  bathrooms  sqft_living  ...     long  sqft_living15  sqft_lot15\n",
              "1468          4       1.50         1390  ... -122.332           1630        7702\n",
              "15590         3       1.50         1450  ... -122.349           1440        7316\n",
              "18552         5       2.75         2860  ... -122.104           2980        6018\n",
              "10535         2       1.00         1050  ... -122.307           1650        4125\n",
              "1069          2       1.00         1240  ... -122.059           3050       25545\n",
              "\n",
              "[5 rows x 17 columns]"
            ]
          },
          "metadata": {
            "tags": []
          },
          "execution_count": 35
        }
      ]
    },
    {
      "cell_type": "code",
      "metadata": {
        "colab": {
          "base_uri": "https://localhost:8080/"
        },
        "id": "HvQxknyth-th",
        "outputId": "b68c472d-c328-4f9a-deea-dff7bbdb93f1"
      },
      "source": [
        "feature_selected_regressor = Lasso(alpha = 0.1, max_iter=1000).fit(train_features,train_labels)\n",
        "feature_selected_regressor_score = feature_selected_regressor.score(test_features,test_labels)\n",
        "feature_selected_regressor_score"
      ],
      "execution_count": null,
      "outputs": [
        {
          "output_type": "execute_result",
          "data": {
            "text/plain": [
              "0.6877902863591818"
            ]
          },
          "metadata": {
            "tags": []
          },
          "execution_count": 36
        }
      ]
    },
    {
      "cell_type": "code",
      "metadata": {
        "colab": {
          "base_uri": "https://localhost:8080/"
        },
        "id": "3CC5CG-sjAc9",
        "outputId": "c89610cc-2421-49e5-d00b-c1facd753bd5"
      },
      "source": [
        "regressor2 = LinearRegression()\n",
        "regressor2.fit(X_train, y_train)\n",
        "regressor2_score = regressor2.score(X_test,y_test)\n",
        "regressor2_score"
      ],
      "execution_count": null,
      "outputs": [
        {
          "output_type": "execute_result",
          "data": {
            "text/plain": [
              "0.6877902899299173"
            ]
          },
          "metadata": {
            "tags": []
          },
          "execution_count": 37
        }
      ]
    }
  ]
}