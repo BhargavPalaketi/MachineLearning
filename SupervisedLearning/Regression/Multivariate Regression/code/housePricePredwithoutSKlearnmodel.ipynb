{
  "nbformat": 4,
  "nbformat_minor": 0,
  "metadata": {
    "colab": {
      "name": "housePricePredwithoutSKlearnmodel.ipynb",
      "provenance": [],
      "collapsed_sections": []
    },
    "kernelspec": {
      "name": "python3",
      "display_name": "Python 3"
    },
    "language_info": {
      "name": "python"
    }
  },
  "cells": [
    {
      "cell_type": "code",
      "metadata": {
        "id": "Kwta2EUpZo8Q"
      },
      "source": [
        "import pandas as pd\n",
        "import numpy as np\n",
        "import matplotlib.pyplot as plt\n",
        "import seaborn as sns"
      ],
      "execution_count": 761,
      "outputs": []
    },
    {
      "cell_type": "code",
      "metadata": {
        "id": "JAETvdMSaFyI"
      },
      "source": [
        "#path = \"https://raw.githubusercontent.com/BhargavPalaketi/MachineLearning/main/SupervisedLearning/Regression/Multivariate%20Regression/Datasets/kc_house_data.csv\"\n",
        "#data = pd.read_csv(path)\n",
        "#data.head()"
      ],
      "execution_count": 762,
      "outputs": []
    },
    {
      "cell_type": "code",
      "metadata": {
        "id": "RA-KItvjA4sU"
      },
      "source": [
        "url =\"https://raw.githubusercontent.com/jbrownlee/Datasets/master/housing.csv\"\n",
        "data = pd.read_csv(url,header=None)\n",
        "df = data"
      ],
      "execution_count": 763,
      "outputs": []
    },
    {
      "cell_type": "code",
      "metadata": {
        "colab": {
          "base_uri": "https://localhost:8080/",
          "height": 223
        },
        "id": "apCLdjHiAwaQ",
        "outputId": "bccf86c7-366e-431f-8f05-4443899e9436"
      },
      "source": [
        "data.head()"
      ],
      "execution_count": 764,
      "outputs": [
        {
          "output_type": "execute_result",
          "data": {
            "text/html": [
              "<div>\n",
              "<style scoped>\n",
              "    .dataframe tbody tr th:only-of-type {\n",
              "        vertical-align: middle;\n",
              "    }\n",
              "\n",
              "    .dataframe tbody tr th {\n",
              "        vertical-align: top;\n",
              "    }\n",
              "\n",
              "    .dataframe thead th {\n",
              "        text-align: right;\n",
              "    }\n",
              "</style>\n",
              "<table border=\"1\" class=\"dataframe\">\n",
              "  <thead>\n",
              "    <tr style=\"text-align: right;\">\n",
              "      <th></th>\n",
              "      <th>0</th>\n",
              "      <th>1</th>\n",
              "      <th>2</th>\n",
              "      <th>3</th>\n",
              "      <th>4</th>\n",
              "      <th>5</th>\n",
              "      <th>6</th>\n",
              "      <th>7</th>\n",
              "      <th>8</th>\n",
              "      <th>9</th>\n",
              "      <th>10</th>\n",
              "      <th>11</th>\n",
              "      <th>12</th>\n",
              "      <th>13</th>\n",
              "    </tr>\n",
              "  </thead>\n",
              "  <tbody>\n",
              "    <tr>\n",
              "      <th>0</th>\n",
              "      <td>0.00632</td>\n",
              "      <td>18.0</td>\n",
              "      <td>2.31</td>\n",
              "      <td>0</td>\n",
              "      <td>0.538</td>\n",
              "      <td>6.575</td>\n",
              "      <td>65.2</td>\n",
              "      <td>4.0900</td>\n",
              "      <td>1</td>\n",
              "      <td>296.0</td>\n",
              "      <td>15.3</td>\n",
              "      <td>396.90</td>\n",
              "      <td>4.98</td>\n",
              "      <td>24.0</td>\n",
              "    </tr>\n",
              "    <tr>\n",
              "      <th>1</th>\n",
              "      <td>0.02731</td>\n",
              "      <td>0.0</td>\n",
              "      <td>7.07</td>\n",
              "      <td>0</td>\n",
              "      <td>0.469</td>\n",
              "      <td>6.421</td>\n",
              "      <td>78.9</td>\n",
              "      <td>4.9671</td>\n",
              "      <td>2</td>\n",
              "      <td>242.0</td>\n",
              "      <td>17.8</td>\n",
              "      <td>396.90</td>\n",
              "      <td>9.14</td>\n",
              "      <td>21.6</td>\n",
              "    </tr>\n",
              "    <tr>\n",
              "      <th>2</th>\n",
              "      <td>0.02729</td>\n",
              "      <td>0.0</td>\n",
              "      <td>7.07</td>\n",
              "      <td>0</td>\n",
              "      <td>0.469</td>\n",
              "      <td>7.185</td>\n",
              "      <td>61.1</td>\n",
              "      <td>4.9671</td>\n",
              "      <td>2</td>\n",
              "      <td>242.0</td>\n",
              "      <td>17.8</td>\n",
              "      <td>392.83</td>\n",
              "      <td>4.03</td>\n",
              "      <td>34.7</td>\n",
              "    </tr>\n",
              "    <tr>\n",
              "      <th>3</th>\n",
              "      <td>0.03237</td>\n",
              "      <td>0.0</td>\n",
              "      <td>2.18</td>\n",
              "      <td>0</td>\n",
              "      <td>0.458</td>\n",
              "      <td>6.998</td>\n",
              "      <td>45.8</td>\n",
              "      <td>6.0622</td>\n",
              "      <td>3</td>\n",
              "      <td>222.0</td>\n",
              "      <td>18.7</td>\n",
              "      <td>394.63</td>\n",
              "      <td>2.94</td>\n",
              "      <td>33.4</td>\n",
              "    </tr>\n",
              "    <tr>\n",
              "      <th>4</th>\n",
              "      <td>0.06905</td>\n",
              "      <td>0.0</td>\n",
              "      <td>2.18</td>\n",
              "      <td>0</td>\n",
              "      <td>0.458</td>\n",
              "      <td>7.147</td>\n",
              "      <td>54.2</td>\n",
              "      <td>6.0622</td>\n",
              "      <td>3</td>\n",
              "      <td>222.0</td>\n",
              "      <td>18.7</td>\n",
              "      <td>396.90</td>\n",
              "      <td>5.33</td>\n",
              "      <td>36.2</td>\n",
              "    </tr>\n",
              "  </tbody>\n",
              "</table>\n",
              "</div>"
            ],
            "text/plain": [
              "        0     1     2   3      4      5   ...  8      9     10      11    12    13\n",
              "0  0.00632  18.0  2.31   0  0.538  6.575  ...   1  296.0  15.3  396.90  4.98  24.0\n",
              "1  0.02731   0.0  7.07   0  0.469  6.421  ...   2  242.0  17.8  396.90  9.14  21.6\n",
              "2  0.02729   0.0  7.07   0  0.469  7.185  ...   2  242.0  17.8  392.83  4.03  34.7\n",
              "3  0.03237   0.0  2.18   0  0.458  6.998  ...   3  222.0  18.7  394.63  2.94  33.4\n",
              "4  0.06905   0.0  2.18   0  0.458  7.147  ...   3  222.0  18.7  396.90  5.33  36.2\n",
              "\n",
              "[5 rows x 14 columns]"
            ]
          },
          "metadata": {
            "tags": []
          },
          "execution_count": 764
        }
      ]
    },
    {
      "cell_type": "code",
      "metadata": {
        "colab": {
          "base_uri": "https://localhost:8080/",
          "height": 500
        },
        "id": "Yu_I3QFOaf1T",
        "outputId": "d172d82f-3b07-4112-97d0-3b18f641b985"
      },
      "source": [
        "correlation_matrix = data.corr()\n",
        "correlation_matrix"
      ],
      "execution_count": 765,
      "outputs": [
        {
          "output_type": "execute_result",
          "data": {
            "text/html": [
              "<div>\n",
              "<style scoped>\n",
              "    .dataframe tbody tr th:only-of-type {\n",
              "        vertical-align: middle;\n",
              "    }\n",
              "\n",
              "    .dataframe tbody tr th {\n",
              "        vertical-align: top;\n",
              "    }\n",
              "\n",
              "    .dataframe thead th {\n",
              "        text-align: right;\n",
              "    }\n",
              "</style>\n",
              "<table border=\"1\" class=\"dataframe\">\n",
              "  <thead>\n",
              "    <tr style=\"text-align: right;\">\n",
              "      <th></th>\n",
              "      <th>0</th>\n",
              "      <th>1</th>\n",
              "      <th>2</th>\n",
              "      <th>3</th>\n",
              "      <th>4</th>\n",
              "      <th>5</th>\n",
              "      <th>6</th>\n",
              "      <th>7</th>\n",
              "      <th>8</th>\n",
              "      <th>9</th>\n",
              "      <th>10</th>\n",
              "      <th>11</th>\n",
              "      <th>12</th>\n",
              "      <th>13</th>\n",
              "    </tr>\n",
              "  </thead>\n",
              "  <tbody>\n",
              "    <tr>\n",
              "      <th>0</th>\n",
              "      <td>1.000000</td>\n",
              "      <td>-0.200469</td>\n",
              "      <td>0.406583</td>\n",
              "      <td>-0.055892</td>\n",
              "      <td>0.420972</td>\n",
              "      <td>-0.219247</td>\n",
              "      <td>0.352734</td>\n",
              "      <td>-0.379670</td>\n",
              "      <td>0.625505</td>\n",
              "      <td>0.582764</td>\n",
              "      <td>0.289946</td>\n",
              "      <td>-0.385064</td>\n",
              "      <td>0.455621</td>\n",
              "      <td>-0.388305</td>\n",
              "    </tr>\n",
              "    <tr>\n",
              "      <th>1</th>\n",
              "      <td>-0.200469</td>\n",
              "      <td>1.000000</td>\n",
              "      <td>-0.533828</td>\n",
              "      <td>-0.042697</td>\n",
              "      <td>-0.516604</td>\n",
              "      <td>0.311991</td>\n",
              "      <td>-0.569537</td>\n",
              "      <td>0.664408</td>\n",
              "      <td>-0.311948</td>\n",
              "      <td>-0.314563</td>\n",
              "      <td>-0.391679</td>\n",
              "      <td>0.175520</td>\n",
              "      <td>-0.412995</td>\n",
              "      <td>0.360445</td>\n",
              "    </tr>\n",
              "    <tr>\n",
              "      <th>2</th>\n",
              "      <td>0.406583</td>\n",
              "      <td>-0.533828</td>\n",
              "      <td>1.000000</td>\n",
              "      <td>0.062938</td>\n",
              "      <td>0.763651</td>\n",
              "      <td>-0.391676</td>\n",
              "      <td>0.644779</td>\n",
              "      <td>-0.708027</td>\n",
              "      <td>0.595129</td>\n",
              "      <td>0.720760</td>\n",
              "      <td>0.383248</td>\n",
              "      <td>-0.356977</td>\n",
              "      <td>0.603800</td>\n",
              "      <td>-0.483725</td>\n",
              "    </tr>\n",
              "    <tr>\n",
              "      <th>3</th>\n",
              "      <td>-0.055892</td>\n",
              "      <td>-0.042697</td>\n",
              "      <td>0.062938</td>\n",
              "      <td>1.000000</td>\n",
              "      <td>0.091203</td>\n",
              "      <td>0.091251</td>\n",
              "      <td>0.086518</td>\n",
              "      <td>-0.099176</td>\n",
              "      <td>-0.007368</td>\n",
              "      <td>-0.035587</td>\n",
              "      <td>-0.121515</td>\n",
              "      <td>0.048788</td>\n",
              "      <td>-0.053929</td>\n",
              "      <td>0.175260</td>\n",
              "    </tr>\n",
              "    <tr>\n",
              "      <th>4</th>\n",
              "      <td>0.420972</td>\n",
              "      <td>-0.516604</td>\n",
              "      <td>0.763651</td>\n",
              "      <td>0.091203</td>\n",
              "      <td>1.000000</td>\n",
              "      <td>-0.302188</td>\n",
              "      <td>0.731470</td>\n",
              "      <td>-0.769230</td>\n",
              "      <td>0.611441</td>\n",
              "      <td>0.668023</td>\n",
              "      <td>0.188933</td>\n",
              "      <td>-0.380051</td>\n",
              "      <td>0.590879</td>\n",
              "      <td>-0.427321</td>\n",
              "    </tr>\n",
              "    <tr>\n",
              "      <th>5</th>\n",
              "      <td>-0.219247</td>\n",
              "      <td>0.311991</td>\n",
              "      <td>-0.391676</td>\n",
              "      <td>0.091251</td>\n",
              "      <td>-0.302188</td>\n",
              "      <td>1.000000</td>\n",
              "      <td>-0.240265</td>\n",
              "      <td>0.205246</td>\n",
              "      <td>-0.209847</td>\n",
              "      <td>-0.292048</td>\n",
              "      <td>-0.355501</td>\n",
              "      <td>0.128069</td>\n",
              "      <td>-0.613808</td>\n",
              "      <td>0.695360</td>\n",
              "    </tr>\n",
              "    <tr>\n",
              "      <th>6</th>\n",
              "      <td>0.352734</td>\n",
              "      <td>-0.569537</td>\n",
              "      <td>0.644779</td>\n",
              "      <td>0.086518</td>\n",
              "      <td>0.731470</td>\n",
              "      <td>-0.240265</td>\n",
              "      <td>1.000000</td>\n",
              "      <td>-0.747881</td>\n",
              "      <td>0.456022</td>\n",
              "      <td>0.506456</td>\n",
              "      <td>0.261515</td>\n",
              "      <td>-0.273534</td>\n",
              "      <td>0.602339</td>\n",
              "      <td>-0.376955</td>\n",
              "    </tr>\n",
              "    <tr>\n",
              "      <th>7</th>\n",
              "      <td>-0.379670</td>\n",
              "      <td>0.664408</td>\n",
              "      <td>-0.708027</td>\n",
              "      <td>-0.099176</td>\n",
              "      <td>-0.769230</td>\n",
              "      <td>0.205246</td>\n",
              "      <td>-0.747881</td>\n",
              "      <td>1.000000</td>\n",
              "      <td>-0.494588</td>\n",
              "      <td>-0.534432</td>\n",
              "      <td>-0.232471</td>\n",
              "      <td>0.291512</td>\n",
              "      <td>-0.496996</td>\n",
              "      <td>0.249929</td>\n",
              "    </tr>\n",
              "    <tr>\n",
              "      <th>8</th>\n",
              "      <td>0.625505</td>\n",
              "      <td>-0.311948</td>\n",
              "      <td>0.595129</td>\n",
              "      <td>-0.007368</td>\n",
              "      <td>0.611441</td>\n",
              "      <td>-0.209847</td>\n",
              "      <td>0.456022</td>\n",
              "      <td>-0.494588</td>\n",
              "      <td>1.000000</td>\n",
              "      <td>0.910228</td>\n",
              "      <td>0.464741</td>\n",
              "      <td>-0.444413</td>\n",
              "      <td>0.488676</td>\n",
              "      <td>-0.381626</td>\n",
              "    </tr>\n",
              "    <tr>\n",
              "      <th>9</th>\n",
              "      <td>0.582764</td>\n",
              "      <td>-0.314563</td>\n",
              "      <td>0.720760</td>\n",
              "      <td>-0.035587</td>\n",
              "      <td>0.668023</td>\n",
              "      <td>-0.292048</td>\n",
              "      <td>0.506456</td>\n",
              "      <td>-0.534432</td>\n",
              "      <td>0.910228</td>\n",
              "      <td>1.000000</td>\n",
              "      <td>0.460853</td>\n",
              "      <td>-0.441808</td>\n",
              "      <td>0.543993</td>\n",
              "      <td>-0.468536</td>\n",
              "    </tr>\n",
              "    <tr>\n",
              "      <th>10</th>\n",
              "      <td>0.289946</td>\n",
              "      <td>-0.391679</td>\n",
              "      <td>0.383248</td>\n",
              "      <td>-0.121515</td>\n",
              "      <td>0.188933</td>\n",
              "      <td>-0.355501</td>\n",
              "      <td>0.261515</td>\n",
              "      <td>-0.232471</td>\n",
              "      <td>0.464741</td>\n",
              "      <td>0.460853</td>\n",
              "      <td>1.000000</td>\n",
              "      <td>-0.177383</td>\n",
              "      <td>0.374044</td>\n",
              "      <td>-0.507787</td>\n",
              "    </tr>\n",
              "    <tr>\n",
              "      <th>11</th>\n",
              "      <td>-0.385064</td>\n",
              "      <td>0.175520</td>\n",
              "      <td>-0.356977</td>\n",
              "      <td>0.048788</td>\n",
              "      <td>-0.380051</td>\n",
              "      <td>0.128069</td>\n",
              "      <td>-0.273534</td>\n",
              "      <td>0.291512</td>\n",
              "      <td>-0.444413</td>\n",
              "      <td>-0.441808</td>\n",
              "      <td>-0.177383</td>\n",
              "      <td>1.000000</td>\n",
              "      <td>-0.366087</td>\n",
              "      <td>0.333461</td>\n",
              "    </tr>\n",
              "    <tr>\n",
              "      <th>12</th>\n",
              "      <td>0.455621</td>\n",
              "      <td>-0.412995</td>\n",
              "      <td>0.603800</td>\n",
              "      <td>-0.053929</td>\n",
              "      <td>0.590879</td>\n",
              "      <td>-0.613808</td>\n",
              "      <td>0.602339</td>\n",
              "      <td>-0.496996</td>\n",
              "      <td>0.488676</td>\n",
              "      <td>0.543993</td>\n",
              "      <td>0.374044</td>\n",
              "      <td>-0.366087</td>\n",
              "      <td>1.000000</td>\n",
              "      <td>-0.737663</td>\n",
              "    </tr>\n",
              "    <tr>\n",
              "      <th>13</th>\n",
              "      <td>-0.388305</td>\n",
              "      <td>0.360445</td>\n",
              "      <td>-0.483725</td>\n",
              "      <td>0.175260</td>\n",
              "      <td>-0.427321</td>\n",
              "      <td>0.695360</td>\n",
              "      <td>-0.376955</td>\n",
              "      <td>0.249929</td>\n",
              "      <td>-0.381626</td>\n",
              "      <td>-0.468536</td>\n",
              "      <td>-0.507787</td>\n",
              "      <td>0.333461</td>\n",
              "      <td>-0.737663</td>\n",
              "      <td>1.000000</td>\n",
              "    </tr>\n",
              "  </tbody>\n",
              "</table>\n",
              "</div>"
            ],
            "text/plain": [
              "          0         1         2   ...        11        12        13\n",
              "0   1.000000 -0.200469  0.406583  ... -0.385064  0.455621 -0.388305\n",
              "1  -0.200469  1.000000 -0.533828  ...  0.175520 -0.412995  0.360445\n",
              "2   0.406583 -0.533828  1.000000  ... -0.356977  0.603800 -0.483725\n",
              "3  -0.055892 -0.042697  0.062938  ...  0.048788 -0.053929  0.175260\n",
              "4   0.420972 -0.516604  0.763651  ... -0.380051  0.590879 -0.427321\n",
              "5  -0.219247  0.311991 -0.391676  ...  0.128069 -0.613808  0.695360\n",
              "6   0.352734 -0.569537  0.644779  ... -0.273534  0.602339 -0.376955\n",
              "7  -0.379670  0.664408 -0.708027  ...  0.291512 -0.496996  0.249929\n",
              "8   0.625505 -0.311948  0.595129  ... -0.444413  0.488676 -0.381626\n",
              "9   0.582764 -0.314563  0.720760  ... -0.441808  0.543993 -0.468536\n",
              "10  0.289946 -0.391679  0.383248  ... -0.177383  0.374044 -0.507787\n",
              "11 -0.385064  0.175520 -0.356977  ...  1.000000 -0.366087  0.333461\n",
              "12  0.455621 -0.412995  0.603800  ... -0.366087  1.000000 -0.737663\n",
              "13 -0.388305  0.360445 -0.483725  ...  0.333461 -0.737663  1.000000\n",
              "\n",
              "[14 rows x 14 columns]"
            ]
          },
          "metadata": {
            "tags": []
          },
          "execution_count": 765
        }
      ]
    },
    {
      "cell_type": "code",
      "metadata": {
        "colab": {
          "base_uri": "https://localhost:8080/"
        },
        "id": "tEgEyNKAarsL",
        "outputId": "74642af1-a318-43eb-ab85-90ffc1e8f2f5"
      },
      "source": [
        "data.dtypes"
      ],
      "execution_count": 766,
      "outputs": [
        {
          "output_type": "execute_result",
          "data": {
            "text/plain": [
              "0     float64\n",
              "1     float64\n",
              "2     float64\n",
              "3       int64\n",
              "4     float64\n",
              "5     float64\n",
              "6     float64\n",
              "7     float64\n",
              "8       int64\n",
              "9     float64\n",
              "10    float64\n",
              "11    float64\n",
              "12    float64\n",
              "13    float64\n",
              "dtype: object"
            ]
          },
          "metadata": {
            "tags": []
          },
          "execution_count": 766
        }
      ]
    },
    {
      "cell_type": "code",
      "metadata": {
        "colab": {
          "base_uri": "https://localhost:8080/",
          "height": 610
        },
        "id": "kIwdhCpabC6L",
        "outputId": "eae149b3-4590-44c7-a324-cdc6941ea57a"
      },
      "source": [
        "plt.figure(figsize=(10,10))\n",
        "plt.plot(data[12],data[13],'o')\n",
        "plt.ylabel('price')"
      ],
      "execution_count": 767,
      "outputs": [
        {
          "output_type": "execute_result",
          "data": {
            "text/plain": [
              "Text(0, 0.5, 'price')"
            ]
          },
          "metadata": {
            "tags": []
          },
          "execution_count": 767
        },
        {
          "output_type": "display_data",
          "data": {
            "image/png": "[encoded data removed]",
            "text/plain": [
              "<Figure size 720x720 with 1 Axes>"
            ]
          },
          "metadata": {
            "tags": [],
            "needs_background": "light"
          }
        }
      ]
    },
    {
      "cell_type": "code",
      "metadata": {
        "id": "88sPMlvPbRYT"
      },
      "source": [
        "# kc house data set\n",
        "#data = data.drop(['id','date'], axis =1)\n",
        "#print(data.shape)\n",
        "#data.head()"
      ],
      "execution_count": 768,
      "outputs": []
    },
    {
      "cell_type": "code",
      "metadata": {
        "id": "gjm2rxQ5eT5C"
      },
      "source": [
        "#X = data.iloc[:, data.columns != 'price'] \n",
        "#y = data['price']"
      ],
      "execution_count": 769,
      "outputs": []
    },
    {
      "cell_type": "code",
      "metadata": {
        "id": "EHtArX_wBkRT"
      },
      "source": [
        "X = data.iloc[:,:-1]\n",
        "y = data.iloc[:,-1]\n"
      ],
      "execution_count": 770,
      "outputs": []
    },
    {
      "cell_type": "code",
      "metadata": {
        "colab": {
          "base_uri": "https://localhost:8080/"
        },
        "id": "6jUPxvMDTQSm",
        "outputId": "87152d01-3e89-4456-e0e8-b27a892b8c75"
      },
      "source": [
        "print(y.shape)\n",
        "#print(y_g.shape)"
      ],
      "execution_count": 771,
      "outputs": [
        {
          "output_type": "stream",
          "text": [
            "(506,)\n"
          ],
          "name": "stdout"
        }
      ]
    },
    {
      "cell_type": "code",
      "metadata": {
        "colab": {
          "base_uri": "https://localhost:8080/",
          "height": 221
        },
        "id": "r2uGcwame3jS",
        "outputId": "d616c394-7860-4a75-d67c-8befc98f14c6"
      },
      "source": [
        "print(X.shape)\n",
        "X.head()"
      ],
      "execution_count": 772,
      "outputs": [
        {
          "output_type": "stream",
          "text": [
            "(506, 13)\n"
          ],
          "name": "stdout"
        },
        {
          "output_type": "execute_result",
          "data": {
            "text/html": [
              "<div>\n",
              "<style scoped>\n",
              "    .dataframe tbody tr th:only-of-type {\n",
              "        vertical-align: middle;\n",
              "    }\n",
              "\n",
              "    .dataframe tbody tr th {\n",
              "        vertical-align: top;\n",
              "    }\n",
              "\n",
              "    .dataframe thead th {\n",
              "        text-align: right;\n",
              "    }\n",
              "</style>\n",
              "<table border=\"1\" class=\"dataframe\">\n",
              "  <thead>\n",
              "    <tr style=\"text-align: right;\">\n",
              "      <th></th>\n",
              "      <th>0</th>\n",
              "      <th>1</th>\n",
              "      <th>2</th>\n",
              "      <th>3</th>\n",
              "      <th>4</th>\n",
              "      <th>5</th>\n",
              "      <th>6</th>\n",
              "      <th>7</th>\n",
              "      <th>8</th>\n",
              "      <th>9</th>\n",
              "      <th>10</th>\n",
              "      <th>11</th>\n",
              "      <th>12</th>\n",
              "    </tr>\n",
              "  </thead>\n",
              "  <tbody>\n",
              "    <tr>\n",
              "      <th>0</th>\n",
              "      <td>0.00632</td>\n",
              "      <td>18.0</td>\n",
              "      <td>2.31</td>\n",
              "      <td>0</td>\n",
              "      <td>0.538</td>\n",
              "      <td>6.575</td>\n",
              "      <td>65.2</td>\n",
              "      <td>4.0900</td>\n",
              "      <td>1</td>\n",
              "      <td>296.0</td>\n",
              "      <td>15.3</td>\n",
              "      <td>396.90</td>\n",
              "      <td>4.98</td>\n",
              "    </tr>\n",
              "    <tr>\n",
              "      <th>1</th>\n",
              "      <td>0.02731</td>\n",
              "      <td>0.0</td>\n",
              "      <td>7.07</td>\n",
              "      <td>0</td>\n",
              "      <td>0.469</td>\n",
              "      <td>6.421</td>\n",
              "      <td>78.9</td>\n",
              "      <td>4.9671</td>\n",
              "      <td>2</td>\n",
              "      <td>242.0</td>\n",
              "      <td>17.8</td>\n",
              "      <td>396.90</td>\n",
              "      <td>9.14</td>\n",
              "    </tr>\n",
              "    <tr>\n",
              "      <th>2</th>\n",
              "      <td>0.02729</td>\n",
              "      <td>0.0</td>\n",
              "      <td>7.07</td>\n",
              "      <td>0</td>\n",
              "      <td>0.469</td>\n",
              "      <td>7.185</td>\n",
              "      <td>61.1</td>\n",
              "      <td>4.9671</td>\n",
              "      <td>2</td>\n",
              "      <td>242.0</td>\n",
              "      <td>17.8</td>\n",
              "      <td>392.83</td>\n",
              "      <td>4.03</td>\n",
              "    </tr>\n",
              "    <tr>\n",
              "      <th>3</th>\n",
              "      <td>0.03237</td>\n",
              "      <td>0.0</td>\n",
              "      <td>2.18</td>\n",
              "      <td>0</td>\n",
              "      <td>0.458</td>\n",
              "      <td>6.998</td>\n",
              "      <td>45.8</td>\n",
              "      <td>6.0622</td>\n",
              "      <td>3</td>\n",
              "      <td>222.0</td>\n",
              "      <td>18.7</td>\n",
              "      <td>394.63</td>\n",
              "      <td>2.94</td>\n",
              "    </tr>\n",
              "    <tr>\n",
              "      <th>4</th>\n",
              "      <td>0.06905</td>\n",
              "      <td>0.0</td>\n",
              "      <td>2.18</td>\n",
              "      <td>0</td>\n",
              "      <td>0.458</td>\n",
              "      <td>7.147</td>\n",
              "      <td>54.2</td>\n",
              "      <td>6.0622</td>\n",
              "      <td>3</td>\n",
              "      <td>222.0</td>\n",
              "      <td>18.7</td>\n",
              "      <td>396.90</td>\n",
              "      <td>5.33</td>\n",
              "    </tr>\n",
              "  </tbody>\n",
              "</table>\n",
              "</div>"
            ],
            "text/plain": [
              "        0     1     2   3      4      5   ...      7   8      9     10      11    12\n",
              "0  0.00632  18.0  2.31   0  0.538  6.575  ...  4.0900   1  296.0  15.3  396.90  4.98\n",
              "1  0.02731   0.0  7.07   0  0.469  6.421  ...  4.9671   2  242.0  17.8  396.90  9.14\n",
              "2  0.02729   0.0  7.07   0  0.469  7.185  ...  4.9671   2  242.0  17.8  392.83  4.03\n",
              "3  0.03237   0.0  2.18   0  0.458  6.998  ...  6.0622   3  222.0  18.7  394.63  2.94\n",
              "4  0.06905   0.0  2.18   0  0.458  7.147  ...  6.0622   3  222.0  18.7  396.90  5.33\n",
              "\n",
              "[5 rows x 13 columns]"
            ]
          },
          "metadata": {
            "tags": []
          },
          "execution_count": 772
        }
      ]
    },
    {
      "cell_type": "markdown",
      "metadata": {
        "id": "hRh5AFJogK2T"
      },
      "source": [
        " ## <p> Hypothesis: Since we have multiple independent features we need to use multivariate Regression <br> hypothesis look like ℎ𝜃(x) = 𝜃0x0 + 𝜃1x1 + 𝜃2𝑥2 + 𝜃3𝑥3 + ⋯ + 𝜃𝑛𝑥𝑛"
      ]
    },
    {
      "cell_type": "code",
      "metadata": {
        "id": "bXcNRFbje_Ei"
      },
      "source": [
        "#X.shape[0]\n",
        "#X_0 = np.c_[np.ones((X.shape[0],1)),X]\n",
        "#X_0.shape"
      ],
      "execution_count": 773,
      "outputs": []
    },
    {
      "cell_type": "code",
      "metadata": {
        "id": "0r_VCTXiuMOH"
      },
      "source": [
        "#X_0"
      ],
      "execution_count": 774,
      "outputs": []
    },
    {
      "cell_type": "markdown",
      "metadata": {
        "id": "H5zoyut1lZe7"
      },
      "source": [
        " ### Normal Equation <br>![Normal equation.PNG](data:image/png;base64,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)"
      ]
    },
    {
      "cell_type": "code",
      "metadata": {
        "id": "0L1NjAsgjqwi"
      },
      "source": [
        "def normalequation(X,y):\n",
        "  #pinv = (X^T*X)^-1*X^T\n",
        "  pinv = np.linalg.inv(np.matmul(X.T,X))\n",
        "  ne = np.matmul(pinv,np.matmul(X.T,y))\n",
        "  return ne"
      ],
      "execution_count": 775,
      "outputs": []
    },
    {
      "cell_type": "markdown",
      "metadata": {
        "id": "NSuBcT6bpa7m"
      },
      "source": [
        " ### Split data  "
      ]
    },
    {
      "cell_type": "code",
      "metadata": {
        "id": "6r8YJxTvpXGN"
      },
      "source": [
        "from sklearn.model_selection import train_test_split\n",
        "X_train,X_test,y_train,y_test = train_test_split( X, y, random_state = 0 )"
      ],
      "execution_count": 776,
      "outputs": []
    },
    {
      "cell_type": "code",
      "metadata": {
        "id": "xRgxGYJUxoQM"
      },
      "source": [
        "X_train_0 = np.c_[np.ones((X_train.shape[0],1)),X_train]\n",
        "X_test_0 = np.c_[np.ones((X_test.shape[0],1)),X_test]"
      ],
      "execution_count": 777,
      "outputs": []
    },
    {
      "cell_type": "code",
      "metadata": {
        "colab": {
          "base_uri": "https://localhost:8080/"
        },
        "id": "V28gl0MGzubZ",
        "outputId": "62a4f9cc-1a54-4f3f-aeeb-3037623048c2"
      },
      "source": [
        "X_train_0.shape"
      ],
      "execution_count": 778,
      "outputs": [
        {
          "output_type": "execute_result",
          "data": {
            "text/plain": [
              "(379, 14)"
            ]
          },
          "metadata": {
            "tags": []
          },
          "execution_count": 778
        }
      ]
    },
    {
      "cell_type": "code",
      "metadata": {
        "colab": {
          "base_uri": "https://localhost:8080/"
        },
        "id": "eq1sYc9LpNZA",
        "outputId": "f4ecd8a9-a843-4616-aae2-0f53ff80e605"
      },
      "source": [
        "theta = normalequation(X_train_0,y_train)\n",
        "theta.shape"
      ],
      "execution_count": 779,
      "outputs": [
        {
          "output_type": "execute_result",
          "data": {
            "text/plain": [
              "(14,)"
            ]
          },
          "metadata": {
            "tags": []
          },
          "execution_count": 779
        }
      ]
    },
    {
      "cell_type": "code",
      "metadata": {
        "id": "8aebXfGGrqpJ"
      },
      "source": [
        "# The parameters for linear regression model\n",
        "parameter = ['theta_'+str(i) for i in range(X_train_0.shape[1])]\n",
        "columns = ['intersect:x_0=1'] + list(X.columns.values)\n",
        "parameter_df = pd.DataFrame({'Parameter':parameter,'Columns':columns,'theta':theta})"
      ],
      "execution_count": 780,
      "outputs": []
    },
    {
      "cell_type": "code",
      "metadata": {
        "colab": {
          "base_uri": "https://localhost:8080/",
          "height": 480
        },
        "id": "ER-aTfVlr-5A",
        "outputId": "c3492bc9-3405-4860-e8b5-6458221629aa"
      },
      "source": [
        "# Scikit Learn module\n",
        "from sklearn.linear_model import LinearRegression\n",
        "lin_reg = LinearRegression()\n",
        "lin_reg.fit(X_train,y_train) # Note: x_0 =1 is no need to add, sklearn will take care of it.\n",
        "\n",
        "#Parameter\n",
        "sk_theta = [lin_reg.intercept_]+list(lin_reg.coef_)\n",
        "parameter_df = parameter_df.join(pd.Series(sk_theta, name='Sklearn_theta'))\n",
        "parameter_df"
      ],
      "execution_count": 781,
      "outputs": [
        {
          "output_type": "execute_result",
          "data": {
            "text/html": [
              "<div>\n",
              "<style scoped>\n",
              "    .dataframe tbody tr th:only-of-type {\n",
              "        vertical-align: middle;\n",
              "    }\n",
              "\n",
              "    .dataframe tbody tr th {\n",
              "        vertical-align: top;\n",
              "    }\n",
              "\n",
              "    .dataframe thead th {\n",
              "        text-align: right;\n",
              "    }\n",
              "</style>\n",
              "<table border=\"1\" class=\"dataframe\">\n",
              "  <thead>\n",
              "    <tr style=\"text-align: right;\">\n",
              "      <th></th>\n",
              "      <th>Parameter</th>\n",
              "      <th>Columns</th>\n",
              "      <th>theta</th>\n",
              "      <th>Sklearn_theta</th>\n",
              "    </tr>\n",
              "  </thead>\n",
              "  <tbody>\n",
              "    <tr>\n",
              "      <th>0</th>\n",
              "      <td>theta_0</td>\n",
              "      <td>intersect:x_0=1</td>\n",
              "      <td>36.933255</td>\n",
              "      <td>36.933255</td>\n",
              "    </tr>\n",
              "    <tr>\n",
              "      <th>1</th>\n",
              "      <td>theta_1</td>\n",
              "      <td>0</td>\n",
              "      <td>-0.117735</td>\n",
              "      <td>-0.117735</td>\n",
              "    </tr>\n",
              "    <tr>\n",
              "      <th>2</th>\n",
              "      <td>theta_2</td>\n",
              "      <td>1</td>\n",
              "      <td>0.044017</td>\n",
              "      <td>0.044017</td>\n",
              "    </tr>\n",
              "    <tr>\n",
              "      <th>3</th>\n",
              "      <td>theta_3</td>\n",
              "      <td>2</td>\n",
              "      <td>-0.005768</td>\n",
              "      <td>-0.005768</td>\n",
              "    </tr>\n",
              "    <tr>\n",
              "      <th>4</th>\n",
              "      <td>theta_4</td>\n",
              "      <td>3</td>\n",
              "      <td>2.393416</td>\n",
              "      <td>2.393416</td>\n",
              "    </tr>\n",
              "    <tr>\n",
              "      <th>5</th>\n",
              "      <td>theta_5</td>\n",
              "      <td>4</td>\n",
              "      <td>-15.589421</td>\n",
              "      <td>-15.589421</td>\n",
              "    </tr>\n",
              "    <tr>\n",
              "      <th>6</th>\n",
              "      <td>theta_6</td>\n",
              "      <td>5</td>\n",
              "      <td>3.768968</td>\n",
              "      <td>3.768968</td>\n",
              "    </tr>\n",
              "    <tr>\n",
              "      <th>7</th>\n",
              "      <td>theta_7</td>\n",
              "      <td>6</td>\n",
              "      <td>-0.007035</td>\n",
              "      <td>-0.007035</td>\n",
              "    </tr>\n",
              "    <tr>\n",
              "      <th>8</th>\n",
              "      <td>theta_8</td>\n",
              "      <td>7</td>\n",
              "      <td>-1.434956</td>\n",
              "      <td>-1.434956</td>\n",
              "    </tr>\n",
              "    <tr>\n",
              "      <th>9</th>\n",
              "      <td>theta_9</td>\n",
              "      <td>8</td>\n",
              "      <td>0.240081</td>\n",
              "      <td>0.240081</td>\n",
              "    </tr>\n",
              "    <tr>\n",
              "      <th>10</th>\n",
              "      <td>theta_10</td>\n",
              "      <td>9</td>\n",
              "      <td>-0.011297</td>\n",
              "      <td>-0.011297</td>\n",
              "    </tr>\n",
              "    <tr>\n",
              "      <th>11</th>\n",
              "      <td>theta_11</td>\n",
              "      <td>10</td>\n",
              "      <td>-0.985547</td>\n",
              "      <td>-0.985547</td>\n",
              "    </tr>\n",
              "    <tr>\n",
              "      <th>12</th>\n",
              "      <td>theta_12</td>\n",
              "      <td>11</td>\n",
              "      <td>0.008444</td>\n",
              "      <td>0.008444</td>\n",
              "    </tr>\n",
              "    <tr>\n",
              "      <th>13</th>\n",
              "      <td>theta_13</td>\n",
              "      <td>12</td>\n",
              "      <td>-0.499117</td>\n",
              "      <td>-0.499117</td>\n",
              "    </tr>\n",
              "  </tbody>\n",
              "</table>\n",
              "</div>"
            ],
            "text/plain": [
              "   Parameter          Columns      theta  Sklearn_theta\n",
              "0    theta_0  intersect:x_0=1  36.933255      36.933255\n",
              "1    theta_1                0  -0.117735      -0.117735\n",
              "2    theta_2                1   0.044017       0.044017\n",
              "3    theta_3                2  -0.005768      -0.005768\n",
              "4    theta_4                3   2.393416       2.393416\n",
              "5    theta_5                4 -15.589421     -15.589421\n",
              "6    theta_6                5   3.768968       3.768968\n",
              "7    theta_7                6  -0.007035      -0.007035\n",
              "8    theta_8                7  -1.434956      -1.434956\n",
              "9    theta_9                8   0.240081       0.240081\n",
              "10  theta_10                9  -0.011297      -0.011297\n",
              "11  theta_11               10  -0.985547      -0.985547\n",
              "12  theta_12               11   0.008444       0.008444\n",
              "13  theta_13               12  -0.499117      -0.499117"
            ]
          },
          "metadata": {
            "tags": []
          },
          "execution_count": 781
        }
      ]
    },
    {
      "cell_type": "code",
      "metadata": {
        "colab": {
          "base_uri": "https://localhost:8080/"
        },
        "id": "J4NKpejUskuq",
        "outputId": "9323195b-0c06-442b-cf81-7c29490c50b6"
      },
      "source": [
        "print(X_train.shape)\n",
        "print(theta.shape)"
      ],
      "execution_count": 782,
      "outputs": [
        {
          "output_type": "stream",
          "text": [
            "(379, 13)\n",
            "(14,)\n"
          ],
          "name": "stdout"
        }
      ]
    },
    {
      "cell_type": "code",
      "metadata": {
        "id": "m8M18TsIe4-y"
      },
      "source": [
        "def hypothesis(X,theta):\n",
        "  f = np.matmul(X,theta)\n",
        "  return f\n"
      ],
      "execution_count": 783,
      "outputs": []
    },
    {
      "cell_type": "code",
      "metadata": {
        "id": "VakfuzC0syZ-"
      },
      "source": [
        "y_pred_norm = hypothesis(X_test_0,theta) "
      ],
      "execution_count": 784,
      "outputs": []
    },
    {
      "cell_type": "code",
      "metadata": {
        "colab": {
          "base_uri": "https://localhost:8080/"
        },
        "id": "sE62q1CRtRg-",
        "outputId": "50be0f9a-8fe0-407f-8323-c7bf1db1fa58"
      },
      "source": [
        "J_mse = np.sum((y_pred_norm - y_test)**2)/(2*X_test.shape[0]) \n",
        "\n",
        "# R_square \n",
        "sse = np.sum((y_pred_norm - y_test)**2)\n",
        "sst = np.sum((y_test - y_test.mean())**2)\n",
        "R_square = 1 - (sse/sst)\n",
        "print('The Mean Square Error(MSE) or J(theta) is: ',J_mse)\n",
        "print('R square obtain for normal equation method is :',R_square)"
      ],
      "execution_count": 785,
      "outputs": [
        {
          "output_type": "stream",
          "text": [
            "The Mean Square Error(MSE) or J(theta) is:  14.891122546150696\n",
            "R square obtain for normal equation method is : 0.6354638433202249\n"
          ],
          "name": "stdout"
        }
      ]
    },
    {
      "cell_type": "markdown",
      "metadata": {
        "id": "MYrvxNn6n8hQ"
      },
      "source": [
        " # Using Gradient descent python implementation "
      ]
    },
    {
      "cell_type": "code",
      "metadata": {
        "id": "JSaFBk9vtfu3"
      },
      "source": [
        "def costfunction(X,y,theta):\n",
        "  m = X.shape[0] #no:of training examples\n",
        "  h = X.dot(theta)\n",
        "  J = np.sum((y - h)**2)/(2*m)\n",
        "  return J"
      ],
      "execution_count": 786,
      "outputs": []
    },
    {
      "cell_type": "code",
      "metadata": {
        "id": "v5VQUao--w7g"
      },
      "source": [
        "def batch_gradient_descent(X,y,theta,alpha,epochs):\n",
        "  cost_history = [0]*epochs\n",
        "  m = len(y)\n",
        "\n",
        "  for epoch in range(epochs):\n",
        "    h = X.dot(theta) #hypothesis predicted value\n",
        "    loss = h-y #loss\n",
        "    #Gradient calculation\n",
        "    gradient = X.T.dot(loss) / m\n",
        "\n",
        "    #Updating theta values\n",
        "    theta = theta - alpha * gradient\n",
        "\n",
        "    # new Cost value\n",
        "    cost = costfunction(X,y,theta)\n",
        "    cost_history[epoch] = cost\n",
        "  return theta,cost_history \n",
        "\n",
        "\n"
      ],
      "execution_count": 787,
      "outputs": []
    },
    {
      "cell_type": "code",
      "metadata": {
        "id": "w0shIPjLRX4i",
        "colab": {
          "base_uri": "https://localhost:8080/",
          "height": 203
        },
        "outputId": "8f3c6f2a-ed25-4c05-83ce-1ffac4867e36"
      },
      "source": [
        "X_g = df.iloc[:,:-1]\n",
        "y_g = df.iloc[:,-1]\n",
        "y_g.shape\n",
        "X_g.head()"
      ],
      "execution_count": 788,
      "outputs": [
        {
          "output_type": "execute_result",
          "data": {
            "text/html": [
              "<div>\n",
              "<style scoped>\n",
              "    .dataframe tbody tr th:only-of-type {\n",
              "        vertical-align: middle;\n",
              "    }\n",
              "\n",
              "    .dataframe tbody tr th {\n",
              "        vertical-align: top;\n",
              "    }\n",
              "\n",
              "    .dataframe thead th {\n",
              "        text-align: right;\n",
              "    }\n",
              "</style>\n",
              "<table border=\"1\" class=\"dataframe\">\n",
              "  <thead>\n",
              "    <tr style=\"text-align: right;\">\n",
              "      <th></th>\n",
              "      <th>0</th>\n",
              "      <th>1</th>\n",
              "      <th>2</th>\n",
              "      <th>3</th>\n",
              "      <th>4</th>\n",
              "      <th>5</th>\n",
              "      <th>6</th>\n",
              "      <th>7</th>\n",
              "      <th>8</th>\n",
              "      <th>9</th>\n",
              "      <th>10</th>\n",
              "      <th>11</th>\n",
              "      <th>12</th>\n",
              "    </tr>\n",
              "  </thead>\n",
              "  <tbody>\n",
              "    <tr>\n",
              "      <th>0</th>\n",
              "      <td>0.00632</td>\n",
              "      <td>18.0</td>\n",
              "      <td>2.31</td>\n",
              "      <td>0</td>\n",
              "      <td>0.538</td>\n",
              "      <td>6.575</td>\n",
              "      <td>65.2</td>\n",
              "      <td>4.0900</td>\n",
              "      <td>1</td>\n",
              "      <td>296.0</td>\n",
              "      <td>15.3</td>\n",
              "      <td>396.90</td>\n",
              "      <td>4.98</td>\n",
              "    </tr>\n",
              "    <tr>\n",
              "      <th>1</th>\n",
              "      <td>0.02731</td>\n",
              "      <td>0.0</td>\n",
              "      <td>7.07</td>\n",
              "      <td>0</td>\n",
              "      <td>0.469</td>\n",
              "      <td>6.421</td>\n",
              "      <td>78.9</td>\n",
              "      <td>4.9671</td>\n",
              "      <td>2</td>\n",
              "      <td>242.0</td>\n",
              "      <td>17.8</td>\n",
              "      <td>396.90</td>\n",
              "      <td>9.14</td>\n",
              "    </tr>\n",
              "    <tr>\n",
              "      <th>2</th>\n",
              "      <td>0.02729</td>\n",
              "      <td>0.0</td>\n",
              "      <td>7.07</td>\n",
              "      <td>0</td>\n",
              "      <td>0.469</td>\n",
              "      <td>7.185</td>\n",
              "      <td>61.1</td>\n",
              "      <td>4.9671</td>\n",
              "      <td>2</td>\n",
              "      <td>242.0</td>\n",
              "      <td>17.8</td>\n",
              "      <td>392.83</td>\n",
              "      <td>4.03</td>\n",
              "    </tr>\n",
              "    <tr>\n",
              "      <th>3</th>\n",
              "      <td>0.03237</td>\n",
              "      <td>0.0</td>\n",
              "      <td>2.18</td>\n",
              "      <td>0</td>\n",
              "      <td>0.458</td>\n",
              "      <td>6.998</td>\n",
              "      <td>45.8</td>\n",
              "      <td>6.0622</td>\n",
              "      <td>3</td>\n",
              "      <td>222.0</td>\n",
              "      <td>18.7</td>\n",
              "      <td>394.63</td>\n",
              "      <td>2.94</td>\n",
              "    </tr>\n",
              "    <tr>\n",
              "      <th>4</th>\n",
              "      <td>0.06905</td>\n",
              "      <td>0.0</td>\n",
              "      <td>2.18</td>\n",
              "      <td>0</td>\n",
              "      <td>0.458</td>\n",
              "      <td>7.147</td>\n",
              "      <td>54.2</td>\n",
              "      <td>6.0622</td>\n",
              "      <td>3</td>\n",
              "      <td>222.0</td>\n",
              "      <td>18.7</td>\n",
              "      <td>396.90</td>\n",
              "      <td>5.33</td>\n",
              "    </tr>\n",
              "  </tbody>\n",
              "</table>\n",
              "</div>"
            ],
            "text/plain": [
              "        0     1     2   3      4      5   ...      7   8      9     10      11    12\n",
              "0  0.00632  18.0  2.31   0  0.538  6.575  ...  4.0900   1  296.0  15.3  396.90  4.98\n",
              "1  0.02731   0.0  7.07   0  0.469  6.421  ...  4.9671   2  242.0  17.8  396.90  9.14\n",
              "2  0.02729   0.0  7.07   0  0.469  7.185  ...  4.9671   2  242.0  17.8  392.83  4.03\n",
              "3  0.03237   0.0  2.18   0  0.458  6.998  ...  6.0622   3  222.0  18.7  394.63  2.94\n",
              "4  0.06905   0.0  2.18   0  0.458  7.147  ...  6.0622   3  222.0  18.7  396.90  5.33\n",
              "\n",
              "[5 rows x 13 columns]"
            ]
          },
          "metadata": {
            "tags": []
          },
          "execution_count": 788
        }
      ]
    },
    {
      "cell_type": "code",
      "metadata": {
        "id": "8924yEcVXEoh"
      },
      "source": [
        "from sklearn.preprocessing import StandardScaler\n",
        "sc = StandardScaler()\n",
        "X_std = sc.fit_transform(X_g)"
      ],
      "execution_count": 789,
      "outputs": []
    },
    {
      "cell_type": "code",
      "metadata": {
        "id": "NegZZQQfHxyu"
      },
      "source": [
        "from sklearn.model_selection import train_test_split\n",
        "X_g_train,X_g_test,y_g_train,y_g_test = train_test_split( X_std, y_g, random_state = 0 )"
      ],
      "execution_count": 790,
      "outputs": []
    },
    {
      "cell_type": "code",
      "metadata": {
        "id": "TyzNVVieQ7KO"
      },
      "source": [
        "X_g_train_0 = np.c_[np.ones((X_train.shape[0],1)),X_g_train]\n",
        "X_g_test_0 = np.c_[np.ones((X_test.shape[0],1)),X_g_test]\n",
        "y_g_train = y_g_train.values.reshape(-1,1)"
      ],
      "execution_count": 791,
      "outputs": []
    },
    {
      "cell_type": "code",
      "metadata": {
        "id": "m9eUuLbRWL9g"
      },
      "source": [
        "theta_g = np.ones((X_g_train_0.shape[1],1))"
      ],
      "execution_count": 792,
      "outputs": []
    },
    {
      "cell_type": "code",
      "metadata": {
        "colab": {
          "base_uri": "https://localhost:8080/"
        },
        "id": "dxY6tAFLWX4t",
        "outputId": "e36f9277-aea4-4709-b909-45c95d470862"
      },
      "source": [
        "print('X shape: ',X_g_train_0.shape)\n",
        "print('theta shape: ', theta_g.shape)\n",
        "print('y.shape: ',y_g_train.shape)"
      ],
      "execution_count": 793,
      "outputs": [
        {
          "output_type": "stream",
          "text": [
            "X shape:  (379, 14)\n",
            "theta shape:  (14, 1)\n",
            "y.shape:  (379, 1)\n"
          ],
          "name": "stdout"
        }
      ]
    },
    {
      "cell_type": "code",
      "metadata": {
        "colab": {
          "base_uri": "https://localhost:8080/"
        },
        "id": "UNaXCHPjV3L8",
        "outputId": "9b0566d4-4b9c-43f5-9df4-6400d03a16f5"
      },
      "source": [
        " h = np.matmul(X_g_train_0,theta_g)\n",
        " np.square(y_g_train - h).shape"
      ],
      "execution_count": 794,
      "outputs": [
        {
          "output_type": "execute_result",
          "data": {
            "text/plain": [
              "(379, 1)"
            ]
          },
          "metadata": {
            "tags": []
          },
          "execution_count": 794
        }
      ]
    },
    {
      "cell_type": "code",
      "metadata": {
        "colab": {
          "base_uri": "https://localhost:8080/"
        },
        "id": "Dg1acHPcVmdn",
        "outputId": "86419d7f-4bcf-4ac4-f3c4-bcf601f37eef"
      },
      "source": [
        "cost = costfunction(X_g_train_0,y_g_train,theta_g)\n",
        "cost"
      ],
      "execution_count": 795,
      "outputs": [
        {
          "output_type": "execute_result",
          "data": {
            "text/plain": [
              "306.25757653438984"
            ]
          },
          "metadata": {
            "tags": []
          },
          "execution_count": 795
        }
      ]
    },
    {
      "cell_type": "code",
      "metadata": {
        "id": "WFwc-b4atVTv"
      },
      "source": [
        "#cost_hist, theta_hist, theta_g_cal = Linear_reg_gradient_descent(X_g_train_0,y_g_train,theta_g,0.001,1000)"
      ],
      "execution_count": 796,
      "outputs": []
    },
    {
      "cell_type": "code",
      "metadata": {
        "id": "30JSTyHvX332"
      },
      "source": [
        "epochs = 3000\n",
        "alpha = 0.03"
      ],
      "execution_count": 797,
      "outputs": []
    },
    {
      "cell_type": "code",
      "metadata": {
        "id": "OC9zyesEArut"
      },
      "source": [
        "theta_g_cal, cost_history_g = batch_gradient_descent(X_g_train_0,y_g_train,theta_g,alpha,epochs) "
      ],
      "execution_count": 798,
      "outputs": []
    },
    {
      "cell_type": "code",
      "metadata": {
        "id": "wiac7PiGtlxa",
        "colab": {
          "base_uri": "https://localhost:8080/"
        },
        "outputId": "bdd69034-1892-408b-eae0-e6ee8aadbb7e"
      },
      "source": [
        "theta_g_cal"
      ],
      "execution_count": 799,
      "outputs": [
        {
          "output_type": "execute_result",
          "data": {
            "text/plain": [
              "array([[22.40888818],\n",
              "       [-1.01129848],\n",
              "       [ 1.02493657],\n",
              "       [-0.04167361],\n",
              "       [ 0.60760794],\n",
              "       [-1.8040347 ],\n",
              "       [ 2.64588168],\n",
              "       [-0.19820357],\n",
              "       [-3.01861665],\n",
              "       [ 2.08338599],\n",
              "       [-1.89658965],\n",
              "       [-2.13132078],\n",
              "       [ 0.77004485],\n",
              "       [-3.56058341]])"
            ]
          },
          "metadata": {
            "tags": []
          },
          "execution_count": 799
        }
      ]
    },
    {
      "cell_type": "code",
      "metadata": {
        "colab": {
          "base_uri": "https://localhost:8080/"
        },
        "id": "WsFSO-oJY83N",
        "outputId": "7f0a5192-a445-4dd0-ef7b-a77caa35531f"
      },
      "source": [
        "new_cost = costfunction(X_g_train_0,y_g_train,theta_g_cal)\n",
        "new_cost"
      ],
      "execution_count": 800,
      "outputs": [
        {
          "output_type": "execute_result",
          "data": {
            "text/plain": [
              "9.820261700198678"
            ]
          },
          "metadata": {
            "tags": []
          },
          "execution_count": 800
        }
      ]
    },
    {
      "cell_type": "code",
      "metadata": {
        "id": "ZCEgzrPMuBZg",
        "colab": {
          "base_uri": "https://localhost:8080/"
        },
        "outputId": "f3c2b8a2-c3ee-435a-a3d0-b009639d2e04"
      },
      "source": [
        "print(X_train_0.shape)\n",
        "print(y_train.shape)\n",
        "print(costfunction(X_g_train_0,y_g_train,theta_g))\n",
        "print(hypothesis(X_train_0,theta_g)[3])"
      ],
      "execution_count": 801,
      "outputs": [
        {
          "output_type": "stream",
          "text": [
            "(379, 14)\n",
            "(379,)\n",
            "306.25757653438984\n",
            "[1254.80645]\n"
          ],
          "name": "stdout"
        }
      ]
    },
    {
      "cell_type": "code",
      "metadata": {
        "id": "g7uvg4g7Tv3a",
        "colab": {
          "base_uri": "https://localhost:8080/",
          "height": 282
        },
        "outputId": "40b7bee4-d090-439a-c436-348e816fe733"
      },
      "source": [
        "#plt.plot(cost_history_g,epochs)\n",
        "plt.plot(list(range(epochs)), cost_history_g, '-r')"
      ],
      "execution_count": 802,
      "outputs": [
        {
          "output_type": "execute_result",
          "data": {
            "text/plain": [
              "[<matplotlib.lines.Line2D at 0x7f1c54c6d490>]"
            ]
          },
          "metadata": {
            "tags": []
          },
          "execution_count": 802
        },
        {
          "output_type": "display_data",
          "data": {
            "image/png": "[encoded data removed]",
            "text/plain": [
              "<Figure size 432x288 with 1 Axes>"
            ]
          },
          "metadata": {
            "tags": [],
            "needs_background": "light"
          }
        }
      ]
    },
    {
      "cell_type": "code",
      "metadata": {
        "id": "gLTS35Y6iVLB"
      },
      "source": [
        "y_ = hypothesis(X_g_test_0,theta_g_cal)"
      ],
      "execution_count": 803,
      "outputs": []
    },
    {
      "cell_type": "code",
      "metadata": {
        "colab": {
          "base_uri": "https://localhost:8080/"
        },
        "id": "egZGFaGNin52",
        "outputId": "05967c1e-071a-4285-b31f-6f842b09740e"
      },
      "source": [
        "def r2(y_,y):\n",
        " sst = np.sum((y-y.mean())**2)\n",
        " ssr = np.sum((y_-y)**2)\n",
        " r2 = 1-(ssr/sst)\n",
        " return(r2)\n",
        "#----------------\n",
        "print('r2 score using gradient descent: ',r2(y_,y_g_test.values.reshape(-1,1)))"
      ],
      "execution_count": 804,
      "outputs": [
        {
          "output_type": "stream",
          "text": [
            "r2 score using gradient descent:  0.6354317036775443\n"
          ],
          "name": "stdout"
        }
      ]
    },
    {
      "cell_type": "code",
      "metadata": {
        "colab": {
          "base_uri": "https://localhost:8080/",
          "height": 480
        },
        "id": "534q7lP7kNni",
        "outputId": "74089092-2d54-42bc-8c07-aa4a2f88421a"
      },
      "source": [
        "#Parameter\n",
        "gd_theta = list(theta_g_cal)\n",
        "parameter_df = parameter_df.join(pd.Series(gd_theta, name='gradient_theta'))\n",
        "parameter_df"
      ],
      "execution_count": 805,
      "outputs": [
        {
          "output_type": "execute_result",
          "data": {
            "text/html": [
              "<div>\n",
              "<style scoped>\n",
              "    .dataframe tbody tr th:only-of-type {\n",
              "        vertical-align: middle;\n",
              "    }\n",
              "\n",
              "    .dataframe tbody tr th {\n",
              "        vertical-align: top;\n",
              "    }\n",
              "\n",
              "    .dataframe thead th {\n",
              "        text-align: right;\n",
              "    }\n",
              "</style>\n",
              "<table border=\"1\" class=\"dataframe\">\n",
              "  <thead>\n",
              "    <tr style=\"text-align: right;\">\n",
              "      <th></th>\n",
              "      <th>Parameter</th>\n",
              "      <th>Columns</th>\n",
              "      <th>theta</th>\n",
              "      <th>Sklearn_theta</th>\n",
              "      <th>gradient_theta</th>\n",
              "    </tr>\n",
              "  </thead>\n",
              "  <tbody>\n",
              "    <tr>\n",
              "      <th>0</th>\n",
              "      <td>theta_0</td>\n",
              "      <td>intersect:x_0=1</td>\n",
              "      <td>36.933255</td>\n",
              "      <td>36.933255</td>\n",
              "      <td>[22.40888817533251]</td>\n",
              "    </tr>\n",
              "    <tr>\n",
              "      <th>1</th>\n",
              "      <td>theta_1</td>\n",
              "      <td>0</td>\n",
              "      <td>-0.117735</td>\n",
              "      <td>-0.117735</td>\n",
              "      <td>[-1.0112984812062262]</td>\n",
              "    </tr>\n",
              "    <tr>\n",
              "      <th>2</th>\n",
              "      <td>theta_2</td>\n",
              "      <td>1</td>\n",
              "      <td>0.044017</td>\n",
              "      <td>0.044017</td>\n",
              "      <td>[1.024936570560588]</td>\n",
              "    </tr>\n",
              "    <tr>\n",
              "      <th>3</th>\n",
              "      <td>theta_3</td>\n",
              "      <td>2</td>\n",
              "      <td>-0.005768</td>\n",
              "      <td>-0.005768</td>\n",
              "      <td>[-0.04167360509855925]</td>\n",
              "    </tr>\n",
              "    <tr>\n",
              "      <th>4</th>\n",
              "      <td>theta_4</td>\n",
              "      <td>3</td>\n",
              "      <td>2.393416</td>\n",
              "      <td>2.393416</td>\n",
              "      <td>[0.6076079429595116]</td>\n",
              "    </tr>\n",
              "    <tr>\n",
              "      <th>5</th>\n",
              "      <td>theta_5</td>\n",
              "      <td>4</td>\n",
              "      <td>-15.589421</td>\n",
              "      <td>-15.589421</td>\n",
              "      <td>[-1.804034700560721]</td>\n",
              "    </tr>\n",
              "    <tr>\n",
              "      <th>6</th>\n",
              "      <td>theta_6</td>\n",
              "      <td>5</td>\n",
              "      <td>3.768968</td>\n",
              "      <td>3.768968</td>\n",
              "      <td>[2.645881675373917]</td>\n",
              "    </tr>\n",
              "    <tr>\n",
              "      <th>7</th>\n",
              "      <td>theta_7</td>\n",
              "      <td>6</td>\n",
              "      <td>-0.007035</td>\n",
              "      <td>-0.007035</td>\n",
              "      <td>[-0.19820357121407003]</td>\n",
              "    </tr>\n",
              "    <tr>\n",
              "      <th>8</th>\n",
              "      <td>theta_8</td>\n",
              "      <td>7</td>\n",
              "      <td>-1.434956</td>\n",
              "      <td>-1.434956</td>\n",
              "      <td>[-3.018616649804684]</td>\n",
              "    </tr>\n",
              "    <tr>\n",
              "      <th>9</th>\n",
              "      <td>theta_9</td>\n",
              "      <td>8</td>\n",
              "      <td>0.240081</td>\n",
              "      <td>0.240081</td>\n",
              "      <td>[2.083385987081553]</td>\n",
              "    </tr>\n",
              "    <tr>\n",
              "      <th>10</th>\n",
              "      <td>theta_10</td>\n",
              "      <td>9</td>\n",
              "      <td>-0.011297</td>\n",
              "      <td>-0.011297</td>\n",
              "      <td>[-1.8965896503233142]</td>\n",
              "    </tr>\n",
              "    <tr>\n",
              "      <th>11</th>\n",
              "      <td>theta_11</td>\n",
              "      <td>10</td>\n",
              "      <td>-0.985547</td>\n",
              "      <td>-0.985547</td>\n",
              "      <td>[-2.1313207818424096]</td>\n",
              "    </tr>\n",
              "    <tr>\n",
              "      <th>12</th>\n",
              "      <td>theta_12</td>\n",
              "      <td>11</td>\n",
              "      <td>0.008444</td>\n",
              "      <td>0.008444</td>\n",
              "      <td>[0.770044850229657]</td>\n",
              "    </tr>\n",
              "    <tr>\n",
              "      <th>13</th>\n",
              "      <td>theta_13</td>\n",
              "      <td>12</td>\n",
              "      <td>-0.499117</td>\n",
              "      <td>-0.499117</td>\n",
              "      <td>[-3.5605834083185917]</td>\n",
              "    </tr>\n",
              "  </tbody>\n",
              "</table>\n",
              "</div>"
            ],
            "text/plain": [
              "   Parameter          Columns      theta  Sklearn_theta          gradient_theta\n",
              "0    theta_0  intersect:x_0=1  36.933255      36.933255     [22.40888817533251]\n",
              "1    theta_1                0  -0.117735      -0.117735   [-1.0112984812062262]\n",
              "2    theta_2                1   0.044017       0.044017     [1.024936570560588]\n",
              "3    theta_3                2  -0.005768      -0.005768  [-0.04167360509855925]\n",
              "4    theta_4                3   2.393416       2.393416    [0.6076079429595116]\n",
              "5    theta_5                4 -15.589421     -15.589421    [-1.804034700560721]\n",
              "6    theta_6                5   3.768968       3.768968     [2.645881675373917]\n",
              "7    theta_7                6  -0.007035      -0.007035  [-0.19820357121407003]\n",
              "8    theta_8                7  -1.434956      -1.434956    [-3.018616649804684]\n",
              "9    theta_9                8   0.240081       0.240081     [2.083385987081553]\n",
              "10  theta_10                9  -0.011297      -0.011297   [-1.8965896503233142]\n",
              "11  theta_11               10  -0.985547      -0.985547   [-2.1313207818424096]\n",
              "12  theta_12               11   0.008444       0.008444     [0.770044850229657]\n",
              "13  theta_13               12  -0.499117      -0.499117   [-3.5605834083185917]"
            ]
          },
          "metadata": {
            "tags": []
          },
          "execution_count": 805
        }
      ]
    }
  ]
}