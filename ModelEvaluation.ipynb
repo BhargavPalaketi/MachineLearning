{
  "nbformat": 4,
  "nbformat_minor": 0,
  "metadata": {
    "colab": {
      "name": "ModelEvaluation.ipynb",
      "provenance": [],
      "collapsed_sections": [],
      "authorship_tag": "ABX9TyOD9W86Nh5r5VyLtGvi9AYw",
      "include_colab_link": true
    },
    "kernelspec": {
      "name": "python3",
      "display_name": "Python 3"
    },
    "language_info": {
      "name": "python"
    }
  },
  "cells": [
    {
      "cell_type": "markdown",
      "metadata": {
        "id": "view-in-github",
        "colab_type": "text"
      },
      "source": [
        "<a href=\"https://colab.research.google.com/github/BhargavPalaketi/MachineLearning/blob/main/ModelEvaluation.ipynb\" target=\"_parent\"><img src=\"https://colab.research.google.com/assets/colab-badge.svg\" alt=\"Open In Colab\"/></a>"
      ]
    },
    {
      "cell_type": "code",
      "metadata": {
        "id": "pQgCP_iDf3rn"
      },
      "source": [
        "import numpy as np\n",
        "import pandas as pd\n",
        "import seaborn as sns\n",
        "import matplotlib.pyplot as plt\n",
        "from sklearn.datasets import load_digits"
      ],
      "execution_count": 17,
      "outputs": []
    },
    {
      "cell_type": "code",
      "metadata": {
        "id": "ToPCogQUgRSE"
      },
      "source": [
        "#multi-class classification dataset of handwritten number from 0-9\n",
        "dataset = load_digits()\n",
        "X, y = dataset.data, dataset.target"
      ],
      "execution_count": 18,
      "outputs": []
    },
    {
      "cell_type": "code",
      "metadata": {
        "colab": {
          "base_uri": "https://localhost:8080/"
        },
        "id": "aFyF8Wg-gf22",
        "outputId": "fa7121d9-ffc7-42bb-9c73-d21b0568b9a4"
      },
      "source": [
        "# code to know the distribution of classes\n",
        "for class_name,class_count in zip(dataset.target_names,np.bincount(dataset.target)):\n",
        "  print(class_name, class_count)"
      ],
      "execution_count": 19,
      "outputs": [
        {
          "output_type": "stream",
          "name": "stdout",
          "text": [
            "0 178\n",
            "1 182\n",
            "2 177\n",
            "3 183\n",
            "4 181\n",
            "5 182\n",
            "6 181\n",
            "7 179\n",
            "8 174\n",
            "9 180\n"
          ]
        }
      ]
    },
    {
      "cell_type": "code",
      "metadata": {
        "colab": {
          "base_uri": "https://localhost:8080/"
        },
        "id": "c4Q7ejJohObm",
        "outputId": "fa828073-f45c-4c34-b7f7-8ea6d98658c2"
      },
      "source": [
        "# let us create a imbalanced targets by classifying,\n",
        "# all the labels that are not 1 as negative class(i.e. \"0\")\n",
        "\n",
        "y_binary_imbalanced = y.copy()\n",
        "y_binary_imbalanced[y_binary_imbalanced != 1] = 0\n",
        "\n",
        "print('Original labels: ',y[1:30])\n",
        "print('New labels:      ',y_binary_imbalanced[1:30])\n",
        "\n"
      ],
      "execution_count": 20,
      "outputs": [
        {
          "output_type": "stream",
          "name": "stdout",
          "text": [
            "Original labels:  [1 2 3 4 5 6 7 8 9 0 1 2 3 4 5 6 7 8 9 0 1 2 3 4 5 6 7 8 9]\n",
            "New labels:       [1 0 0 0 0 0 0 0 0 0 1 0 0 0 0 0 0 0 0 0 1 0 0 0 0 0 0 0 0]\n"
          ]
        }
      ]
    },
    {
      "cell_type": "code",
      "metadata": {
        "colab": {
          "base_uri": "https://localhost:8080/"
        },
        "id": "eS3YLhj_jp2Z",
        "outputId": "cda83cd5-c467-4364-de0e-0bac72e3f29c"
      },
      "source": [
        "np.bincount(y_binary_imbalanced)"
      ],
      "execution_count": 21,
      "outputs": [
        {
          "output_type": "execute_result",
          "data": {
            "text/plain": [
              "array([1615,  182])"
            ]
          },
          "metadata": {},
          "execution_count": 21
        }
      ]
    },
    {
      "cell_type": "code",
      "metadata": {
        "colab": {
          "base_uri": "https://localhost:8080/"
        },
        "id": "zoXrtnZxihmB",
        "outputId": "4c0d1f7d-777e-4389-8ea2-4b09639fad5b"
      },
      "source": [
        "from sklearn.svm import SVC\n",
        "from sklearn.model_selection import train_test_split\n",
        "\n",
        "X_train, X_test, y_train, y_test = train_test_split(X,y_binary_imbalanced,\n",
        "                                                    random_state = 0)\n",
        "\n",
        "svm = SVC(kernel = 'rbf', C =1).fit(X_train,y_train)\n",
        "svm_predicted = svm.predict(X_test)\n",
        "svm.score(X_test,y_test)"
      ],
      "execution_count": 22,
      "outputs": [
        {
          "output_type": "execute_result",
          "data": {
            "text/plain": [
              "0.9955555555555555"
            ]
          },
          "metadata": {},
          "execution_count": 22
        }
      ]
    },
    {
      "cell_type": "markdown",
      "metadata": {
        "id": "1fhVMpe9j-jD"
      },
      "source": [
        " ## Dummy Classifiers"
      ]
    },
    {
      "cell_type": "code",
      "metadata": {
        "colab": {
          "base_uri": "https://localhost:8080/"
        },
        "id": "pc6U9VKjjjdg",
        "outputId": "784de991-740f-47a5-9c0d-ed7fca2d0fd0"
      },
      "source": [
        "from sklearn.dummy import DummyClassifier\n",
        "\n",
        "dummy_majority = DummyClassifier(strategy = 'most_frequent').fit(X_train,y_train)\n",
        "\n",
        "y_dummy_predictions = dummy_majority.predict(X_test)\n",
        "\n",
        "y_dummy_predictions"
      ],
      "execution_count": 23,
      "outputs": [
        {
          "output_type": "execute_result",
          "data": {
            "text/plain": [
              "array([0, 0, 0, 0, 0, 0, 0, 0, 0, 0, 0, 0, 0, 0, 0, 0, 0, 0, 0, 0, 0, 0,\n",
              "       0, 0, 0, 0, 0, 0, 0, 0, 0, 0, 0, 0, 0, 0, 0, 0, 0, 0, 0, 0, 0, 0,\n",
              "       0, 0, 0, 0, 0, 0, 0, 0, 0, 0, 0, 0, 0, 0, 0, 0, 0, 0, 0, 0, 0, 0,\n",
              "       0, 0, 0, 0, 0, 0, 0, 0, 0, 0, 0, 0, 0, 0, 0, 0, 0, 0, 0, 0, 0, 0,\n",
              "       0, 0, 0, 0, 0, 0, 0, 0, 0, 0, 0, 0, 0, 0, 0, 0, 0, 0, 0, 0, 0, 0,\n",
              "       0, 0, 0, 0, 0, 0, 0, 0, 0, 0, 0, 0, 0, 0, 0, 0, 0, 0, 0, 0, 0, 0,\n",
              "       0, 0, 0, 0, 0, 0, 0, 0, 0, 0, 0, 0, 0, 0, 0, 0, 0, 0, 0, 0, 0, 0,\n",
              "       0, 0, 0, 0, 0, 0, 0, 0, 0, 0, 0, 0, 0, 0, 0, 0, 0, 0, 0, 0, 0, 0,\n",
              "       0, 0, 0, 0, 0, 0, 0, 0, 0, 0, 0, 0, 0, 0, 0, 0, 0, 0, 0, 0, 0, 0,\n",
              "       0, 0, 0, 0, 0, 0, 0, 0, 0, 0, 0, 0, 0, 0, 0, 0, 0, 0, 0, 0, 0, 0,\n",
              "       0, 0, 0, 0, 0, 0, 0, 0, 0, 0, 0, 0, 0, 0, 0, 0, 0, 0, 0, 0, 0, 0,\n",
              "       0, 0, 0, 0, 0, 0, 0, 0, 0, 0, 0, 0, 0, 0, 0, 0, 0, 0, 0, 0, 0, 0,\n",
              "       0, 0, 0, 0, 0, 0, 0, 0, 0, 0, 0, 0, 0, 0, 0, 0, 0, 0, 0, 0, 0, 0,\n",
              "       0, 0, 0, 0, 0, 0, 0, 0, 0, 0, 0, 0, 0, 0, 0, 0, 0, 0, 0, 0, 0, 0,\n",
              "       0, 0, 0, 0, 0, 0, 0, 0, 0, 0, 0, 0, 0, 0, 0, 0, 0, 0, 0, 0, 0, 0,\n",
              "       0, 0, 0, 0, 0, 0, 0, 0, 0, 0, 0, 0, 0, 0, 0, 0, 0, 0, 0, 0, 0, 0,\n",
              "       0, 0, 0, 0, 0, 0, 0, 0, 0, 0, 0, 0, 0, 0, 0, 0, 0, 0, 0, 0, 0, 0,\n",
              "       0, 0, 0, 0, 0, 0, 0, 0, 0, 0, 0, 0, 0, 0, 0, 0, 0, 0, 0, 0, 0, 0,\n",
              "       0, 0, 0, 0, 0, 0, 0, 0, 0, 0, 0, 0, 0, 0, 0, 0, 0, 0, 0, 0, 0, 0,\n",
              "       0, 0, 0, 0, 0, 0, 0, 0, 0, 0, 0, 0, 0, 0, 0, 0, 0, 0, 0, 0, 0, 0,\n",
              "       0, 0, 0, 0, 0, 0, 0, 0, 0, 0])"
            ]
          },
          "metadata": {},
          "execution_count": 23
        }
      ]
    },
    {
      "cell_type": "markdown",
      "metadata": {
        "id": "GhqsfV139jk2"
      },
      "source": [
        " ### Confusion Matrix:\n",
        " ![image.png](data:image/png;base64,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)"
      ]
    },
    {
      "cell_type": "code",
      "metadata": {
        "colab": {
          "base_uri": "https://localhost:8080/"
        },
        "id": "2_47y7Zqkoup",
        "outputId": "13adbd3b-712b-4461-f436-de1dcd903ef8"
      },
      "source": [
        "dummy_majority.score(X_test,y_test)"
      ],
      "execution_count": 24,
      "outputs": [
        {
          "output_type": "execute_result",
          "data": {
            "text/plain": [
              "0.9044444444444445"
            ]
          },
          "metadata": {},
          "execution_count": 24
        }
      ]
    },
    {
      "cell_type": "code",
      "metadata": {
        "colab": {
          "base_uri": "https://localhost:8080/"
        },
        "id": "Ie5K8Exzkxs7",
        "outputId": "64a89c1a-a675-47be-8507-f02d0e4d7aaa"
      },
      "source": [
        "from sklearn.metrics import confusion_matrix\n",
        "\n",
        "dummy_majority = DummyClassifier(strategy='most_frequent').fit(X_train,y_train)\n",
        "\n",
        "y_majority_predicted = dummy_majority.predict(X_test)\n",
        "confusion = confusion_matrix(y_test, y_majority_predicted)\n",
        "\n",
        "print('Most frequent class (dummy classifier)\\n', confusion)"
      ],
      "execution_count": 25,
      "outputs": [
        {
          "output_type": "stream",
          "name": "stdout",
          "text": [
            "Most frequent class (dummy classifier)\n",
            " [[407   0]\n",
            " [ 43   0]]\n"
          ]
        }
      ]
    },
    {
      "cell_type": "code",
      "metadata": {
        "colab": {
          "base_uri": "https://localhost:8080/"
        },
        "id": "bHo50DQT-kyC",
        "outputId": "190fb290-365c-4197-ba23-1904bf64bc94"
      },
      "source": [
        "from sklearn.tree import DecisionTreeClassifier\n",
        "\n",
        "dt = DecisionTreeClassifier(max_depth = 2).fit(X_train,y_train)\n",
        "tree_predicted = dt.predict(X_test)\n",
        "confusion = confusion_matrix(y_test, tree_predicted)\n",
        "\n",
        "print('Decision tree classifier (max_depth = 2)\\n',\n",
        "      confusion)"
      ],
      "execution_count": 26,
      "outputs": [
        {
          "output_type": "stream",
          "name": "stdout",
          "text": [
            "Decision tree classifier (max_depth = 2)\n",
            " [[400   7]\n",
            " [ 17  26]]\n"
          ]
        }
      ]
    },
    {
      "cell_type": "markdown",
      "metadata": {
        "id": "9pu1Mpfr94DY"
      },
      "source": [
        " ### Evaluation metrics for binary classification"
      ]
    },
    {
      "cell_type": "code",
      "metadata": {
        "id": "e3gJszHPnYIq",
        "colab": {
          "base_uri": "https://localhost:8080/"
        },
        "outputId": "1d8fc525-3a95-491d-c744-a16a97d9077f"
      },
      "source": [
        "from sklearn.metrics import accuracy_score, recall_score, precision_score, f1_score\n",
        "\n",
        "print('Accuracy:  {:.2f}'.format(accuracy_score(y_test,tree_predicted )))\n",
        "print('Precision:  {:.2f}'.format(precision_score(y_test,tree_predicted )))\n",
        "print('Recall:  {:.2f}'.format(recall_score(y_test,tree_predicted )))\n",
        "print('F1_Score:  {:.2f}'.format(f1_score(y_test,tree_predicted )))"
      ],
      "execution_count": 27,
      "outputs": [
        {
          "output_type": "stream",
          "name": "stdout",
          "text": [
            "Accuracy:  0.95\n",
            "Precision:  0.79\n",
            "Recall:  0.60\n",
            "F1_Score:  0.68\n"
          ]
        }
      ]
    },
    {
      "cell_type": "markdown",
      "metadata": {
        "id": "KenDglT4__mZ"
      },
      "source": [
        " ### To compute all of this metrics at once we use classification_report function"
      ]
    },
    {
      "cell_type": "code",
      "metadata": {
        "colab": {
          "base_uri": "https://localhost:8080/"
        },
        "id": "incKES_t_vs2",
        "outputId": "4b6919aa-63c2-4d92-fe5e-2c0e6bc0e84a"
      },
      "source": [
        "from sklearn.metrics import classification_report\n",
        "\n",
        "print(classification_report(y_test, tree_predicted, target_names = {'not 1','1'}))"
      ],
      "execution_count": 28,
      "outputs": [
        {
          "output_type": "stream",
          "name": "stdout",
          "text": [
            "              precision    recall  f1-score   support\n",
            "\n",
            "           1       0.96      0.98      0.97       407\n",
            "       not 1       0.79      0.60      0.68        43\n",
            "\n",
            "    accuracy                           0.95       450\n",
            "   macro avg       0.87      0.79      0.83       450\n",
            "weighted avg       0.94      0.95      0.94       450\n",
            "\n"
          ]
        }
      ]
    },
    {
      "cell_type": "code",
      "metadata": {
        "id": "2cUwaqFVAhWf"
      },
      "source": [
        "# suport shopws the number of true lables in the test_set"
      ],
      "execution_count": 29,
      "outputs": []
    },
    {
      "cell_type": "code",
      "metadata": {
        "colab": {
          "base_uri": "https://localhost:8080/"
        },
        "id": "xlfEA0WXBCc0",
        "outputId": "ae78b1a4-0998-4da3-94d7-072a382bc657"
      },
      "source": [
        "print('Classification Reports for different models\\n')\n",
        "print('Random Class Proportional (dummy)\\n',\n",
        "      classification_report(y_test, y_majority_predicted, target_names = {'not 1','1'}))\n",
        "\n",
        "print('SVM \\n',\n",
        "      classification_report(y_test, svm_predicted, target_names = {'not 1','1'}))\n",
        "\n",
        "print('Decision tree\\n',\n",
        "      classification_report(y_test, tree_predicted, target_names = {'not 1','1'}))"
      ],
      "execution_count": 30,
      "outputs": [
        {
          "output_type": "stream",
          "name": "stdout",
          "text": [
            "Classification Reports for different models\n",
            "\n",
            "Random Class Proportional (dummy)\n",
            "               precision    recall  f1-score   support\n",
            "\n",
            "           1       0.90      1.00      0.95       407\n",
            "       not 1       0.00      0.00      0.00        43\n",
            "\n",
            "    accuracy                           0.90       450\n",
            "   macro avg       0.45      0.50      0.47       450\n",
            "weighted avg       0.82      0.90      0.86       450\n",
            "\n",
            "SVM \n",
            "               precision    recall  f1-score   support\n",
            "\n",
            "           1       1.00      1.00      1.00       407\n",
            "       not 1       1.00      0.95      0.98        43\n",
            "\n",
            "    accuracy                           1.00       450\n",
            "   macro avg       1.00      0.98      0.99       450\n",
            "weighted avg       1.00      1.00      1.00       450\n",
            "\n",
            "Decision tree\n",
            "               precision    recall  f1-score   support\n",
            "\n",
            "           1       0.96      0.98      0.97       407\n",
            "       not 1       0.79      0.60      0.68        43\n",
            "\n",
            "    accuracy                           0.95       450\n",
            "   macro avg       0.87      0.79      0.83       450\n",
            "weighted avg       0.94      0.95      0.94       450\n",
            "\n"
          ]
        },
        {
          "output_type": "stream",
          "name": "stderr",
          "text": [
            "/usr/local/lib/python3.7/dist-packages/sklearn/metrics/_classification.py:1272: UndefinedMetricWarning: Precision and F-score are ill-defined and being set to 0.0 in labels with no predicted samples. Use `zero_division` parameter to control this behavior.\n",
            "  _warn_prf(average, modifier, msg_start, len(result))\n"
          ]
        }
      ]
    },
    {
      "cell_type": "markdown",
      "metadata": {
        "id": "at6dWQ_yZdaZ"
      },
      "source": [
        " ### Decision Functions"
      ]
    },
    {
      "cell_type": "code",
      "metadata": {
        "colab": {
          "base_uri": "https://localhost:8080/"
        },
        "id": "pBWwjJhsCSze",
        "outputId": "99df92cd-3c2b-4a5d-cac1-3f9c3c42cf75"
      },
      "source": [
        "from sklearn.linear_model import LogisticRegression\n",
        "\n",
        "X_train, X_test, y_train, y_test = train_test_split(X,y_binary_imbalanced,\n",
        "                                                    random_state = 0)\n",
        "lr  = LogisticRegression(max_iter = 1000).fit(X_train,y_train)\n",
        "y_scores_lr = lr.decision_function(X_test)\n",
        "y_scores_list = list(zip(y_test,y_scores_lr))\n",
        "y_scores_list[0:20]"
      ],
      "execution_count": 31,
      "outputs": [
        {
          "output_type": "execute_result",
          "data": {
            "text/plain": [
              "[(0, -34.62965251715387),\n",
              " (0, -18.00710189145109),\n",
              " (0, -20.988652510884364),\n",
              " (0, -36.81475273707072),\n",
              " (0, -39.34052770966422),\n",
              " (0, -18.86401210271846),\n",
              " (1, 6.00209778367665),\n",
              " (0, -32.728067269954025),\n",
              " (0, -35.48770649439418),\n",
              " (0, -37.35612652392992),\n",
              " (0, -25.031654624437433),\n",
              " (0, -21.402724114279327),\n",
              " (0, -36.510711972661504),\n",
              " (0, -15.923500682245841),\n",
              " (0, -12.840715945923545),\n",
              " (0, -13.727416129759074),\n",
              " (1, 14.769298407410023),\n",
              " (0, -39.40761878266293),\n",
              " (0, -26.109597780480243),\n",
              " (0, -28.43756047452812)]"
            ]
          },
          "metadata": {},
          "execution_count": 31
        }
      ]
    },
    {
      "cell_type": "code",
      "metadata": {
        "colab": {
          "base_uri": "https://localhost:8080/"
        },
        "id": "Sf-L-84Ya8dn",
        "outputId": "1f0ea248-ffd3-4a50-fcd1-924d298b8a28"
      },
      "source": [
        "# preict_prob function tell us the Predicted Probability of Class Membership\n",
        "\n",
        "X_train, X_test, y_train, y_test = train_test_split(X,y_binary_imbalanced,\n",
        "                                                    random_state = 0)\n",
        "y_proba_lr = LogisticRegression(max_iter = 1000).fit(X_train, y_train).predict_proba(X_test)\n",
        "y_proba_list = list(zip(y_test[0:20],y_proba_lr[0:20,1]))\n",
        "\n",
        "y_proba_list"
      ],
      "execution_count": 34,
      "outputs": [
        {
          "output_type": "execute_result",
          "data": {
            "text/plain": [
              "[(0, 9.131308204909588e-16),\n",
              " (0, 1.512220102166667e-08),\n",
              " (0, 7.669093481894798e-10),\n",
              " (0, 1.0269659245898714e-16),\n",
              " (0, 8.215346784973234e-18),\n",
              " (0, 6.418944703630233e-09),\n",
              " (1, 0.9975325456496914),\n",
              " (0, 6.114782039708659e-15),\n",
              " (0, 3.8715501930294285e-16),\n",
              " (0, 5.97641002227618e-17),\n",
              " (0, 1.3455211343365045e-11),\n",
              " (0, 5.068915123671552e-10),\n",
              " (0, 1.3918718769334918e-16),\n",
              " (0, 1.2148186996103043e-07),\n",
              " (0, 2.6506157232919956e-06),\n",
              " (0, 1.0920900487132936e-06),\n",
              " (1, 0.9999996147212707),\n",
              " (0, 7.682253212927166e-18),\n",
              " (0, 4.578737638915673e-12),\n",
              " (0, 4.4640022735828206e-13)]"
            ]
          },
          "metadata": {},
          "execution_count": 34
        }
      ]
    },
    {
      "cell_type": "markdown",
      "metadata": {
        "id": "ZrxMC7hFBks6"
      },
      "source": [
        " # Multi-Class Evaluation"
      ]
    },
    {
      "cell_type": "code",
      "metadata": {
        "colab": {
          "base_uri": "https://localhost:8080/",
          "height": 621
        },
        "id": "KfOWnU54dN9i",
        "outputId": "911e8773-4b5e-41cb-94d3-e391d000e746"
      },
      "source": [
        "mc_dataset = load_digits()\n",
        "\n",
        "X,y = mc_dataset.data, mc_dataset.target\n",
        "X_train_mc, X_test_mc, y_train_mc, y_test_mc = train_test_split(X,y,\n",
        "                                                                random_state= 0)\n",
        "\n",
        "svm = SVC(kernel = 'linear').fit(X_train_mc,y_train_mc)\n",
        "svm_predicted_mc = svm.predict(X_test_mc)\n",
        "confusion_mc = confusion_matrix(y_test_mc, svm_predicted_mc)\n",
        "df_cm = pd.DataFrame(confusion_mc)\n",
        "\n",
        "plt.figure(figsize=(5.5,4))\n",
        "sns.heatmap(df_cm, annot=True)\n",
        "plt.title('SVM Linear Kernal \\nAccuracy:{0:.3f}'.\n",
        "          format(accuracy_score(y_test_mc,svm_predicted_mc)))\n",
        "plt.ylabel('True Label')\n",
        "plt.xlabel('Predicted Label')\n",
        "\n",
        "\n",
        "svm = SVC(kernel = 'rbf').fit(X_train_mc,y_train_mc)\n",
        "svm_predicted_mc = svm.predict(X_test_mc)\n",
        "confusion_mc = confusion_matrix(y_test_mc, svm_predicted_mc)\n",
        "df_cm = pd.DataFrame(confusion_mc)\n",
        "\n",
        "plt.figure(figsize=(5.5,4))\n",
        "sns.heatmap(df_cm, annot=True)\n",
        "plt.title('SVM RBF Kernal \\nAccuracy:{0:.3f}'.\n",
        "          format(accuracy_score(y_test_mc,svm_predicted_mc)))\n",
        "plt.ylabel('True Label')\n",
        "plt.xlabel('Predicted Label')\n",
        "\n"
      ],
      "execution_count": 43,
      "outputs": [
        {
          "output_type": "execute_result",
          "data": {
            "text/plain": [
              "Text(0.5, 15.0, 'Predicted Label')"
            ]
          },
          "metadata": {},
          "execution_count": 43
        },
        {
          "output_type": "display_data",
          "data": {
            "image/png": "[encoded data removed]",
            "text/plain": [
              "<Figure size 396x288 with 2 Axes>"
            ]
          },
          "metadata": {
            "needs_background": "light"
          }
        },
        {
          "output_type": "display_data",
          "data": {
            "image/png": "[encoded data removed]",
            "text/plain": [
              "<Figure size 396x288 with 2 Axes>"
            ]
          },
          "metadata": {
            "needs_background": "light"
          }
        }
      ]
    },
    {
      "cell_type": "markdown",
      "metadata": {
        "id": "2nYmx4MMF24X"
      },
      "source": [
        " ### Multi-class Classification report"
      ]
    },
    {
      "cell_type": "code",
      "metadata": {
        "colab": {
          "base_uri": "https://localhost:8080/"
        },
        "id": "3TVRevv1B3ya",
        "outputId": "2744723a-678b-4592-f3cf-262621d961a4"
      },
      "source": [
        "print(classification_report(y_test_mc,svm_predicted_mc))"
      ],
      "execution_count": 44,
      "outputs": [
        {
          "output_type": "stream",
          "name": "stdout",
          "text": [
            "              precision    recall  f1-score   support\n",
            "\n",
            "           0       1.00      1.00      1.00        37\n",
            "           1       0.98      1.00      0.99        43\n",
            "           2       1.00      1.00      1.00        44\n",
            "           3       1.00      0.98      0.99        45\n",
            "           4       1.00      1.00      1.00        38\n",
            "           5       0.98      0.98      0.98        48\n",
            "           6       1.00      1.00      1.00        52\n",
            "           7       1.00      1.00      1.00        48\n",
            "           8       0.98      0.98      0.98        48\n",
            "           9       0.98      0.98      0.98        47\n",
            "\n",
            "    accuracy                           0.99       450\n",
            "   macro avg       0.99      0.99      0.99       450\n",
            "weighted avg       0.99      0.99      0.99       450\n",
            "\n"
          ]
        }
      ]
    },
    {
      "cell_type": "code",
      "metadata": {
        "colab": {
          "base_uri": "https://localhost:8080/"
        },
        "id": "IrZuZJd7GK67",
        "outputId": "1d8c1afc-6d71-4327-d0ec-2eee12e16ac6"
      },
      "source": [
        "#micro vs macro averaged metrics\n",
        "\n",
        "print('Micro-averaged precision = {:.2f} (treat instances equally)'.\n",
        "      format(precision_score(y_test_mc, svm_predicted_mc,average='micro')))\n",
        "\n",
        "print('Macro-averaged precision = {:.2f} (treat instances equally)'.\n",
        "      format(precision_score(y_test_mc, svm_predicted_mc,average='macro')))"
      ],
      "execution_count": 45,
      "outputs": [
        {
          "output_type": "stream",
          "name": "stdout",
          "text": [
            "Micro-averaged precision = 0.99 (treat instances equally)\n",
            "Macro-averaged precision = 0.99 (treat instances equally)\n"
          ]
        }
      ]
    },
    {
      "cell_type": "code",
      "metadata": {
        "id": "gT-D4ftDKRVV"
      },
      "source": [
        ""
      ],
      "execution_count": null,
      "outputs": []
    }
  ]
}