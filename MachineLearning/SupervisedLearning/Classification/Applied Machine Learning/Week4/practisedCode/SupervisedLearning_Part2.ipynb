{
  "nbformat": 4,
  "nbformat_minor": 0,
  "metadata": {
    "colab": {
      "name": "SupervisedLearning-Part2.ipynb",
      "provenance": [],
      "collapsed_sections": [],
      "authorship_tag": "ABX9TyNq+LUC19yG2+7rWS4dGvvM",
      "include_colab_link": true
    },
    "kernelspec": {
      "name": "python3",
      "display_name": "Python 3"
    },
    "language_info": {
      "name": "python"
    }
  },
  "cells": [
    {
      "cell_type": "markdown",
      "metadata": {
        "id": "view-in-github",
        "colab_type": "text"
      },
      "source": [
        "<a href=\"https://colab.research.google.com/github/BhargavPalaketi/MachineLearning/blob/main/MachineLearning/SupervisedLearning/Classification/Applied%20Machine%20Learning/Week4/practisedCode/SupervisedLearning_Part2.ipynb\" target=\"_parent\"><img src=\"https://colab.research.google.com/assets/colab-badge.svg\" alt=\"Open In Colab\"/></a>"
      ]
    },
    {
      "cell_type": "markdown",
      "metadata": {
        "id": "X9PQiIyMkOCM"
      },
      "source": [
        "## Naive Bayes classifiers"
      ]
    },
    {
      "cell_type": "code",
      "metadata": {
        "id": "m1s4ngJJbfon"
      },
      "source": [
        "from sklearn.datasets import make_classification\n",
        "X_C2, y_C2 = make_classification(n_samples = 100, n_features=2,\n",
        "                                n_redundant=0, n_informative=2,\n",
        "                                n_clusters_per_class=1, flip_y = 0.1,\n",
        "                                class_sep = 0.5, random_state=0)"
      ],
      "execution_count": 2,
      "outputs": []
    },
    {
      "cell_type": "code",
      "metadata": {
        "id": "vRBlJiBEclyk"
      },
      "source": [
        "import numpy\n",
        "import pandas as pd\n",
        "import seaborn as sn\n",
        "import matplotlib.pyplot as plt\n",
        "import matplotlib.cm as cm\n",
        "from matplotlib.colors import ListedColormap, BoundaryNorm\n",
        "from sklearn import neighbors\n",
        "import matplotlib.patches as mpatches\n",
        "import graphviz\n",
        "from sklearn.tree import export_graphviz\n",
        "import matplotlib.patches as mpatches\n",
        "\n",
        "def plot_class_regions_for_classifier(clf, X, y, X_test=None, y_test=None, title=None, target_names = None, plot_decision_regions = True):\n",
        "\n",
        "    numClasses = numpy.amax(y) + 1\n",
        "    color_list_light = ['#FFFFAA', '#EFEFEF', '#AAFFAA', '#AAAAFF']\n",
        "    color_list_bold = ['#EEEE00', '#000000', '#00CC00', '#0000CC']\n",
        "    cmap_light = ListedColormap(color_list_light[0:numClasses])\n",
        "    cmap_bold  = ListedColormap(color_list_bold[0:numClasses])\n",
        "\n",
        "    h = 0.03\n",
        "    k = 0.5\n",
        "    x_plot_adjust = 0.1\n",
        "    y_plot_adjust = 0.1\n",
        "    plot_symbol_size = 50\n",
        "\n",
        "    x_min = X[:, 0].min()\n",
        "    x_max = X[:, 0].max()\n",
        "    y_min = X[:, 1].min()\n",
        "    y_max = X[:, 1].max()\n",
        "    x2, y2 = numpy.meshgrid(numpy.arange(x_min-k, x_max+k, h), numpy.arange(y_min-k, y_max+k, h))\n",
        "\n",
        "    P = clf.predict(numpy.c_[x2.ravel(), y2.ravel()])\n",
        "    P = P.reshape(x2.shape)\n",
        "    plt.figure()\n",
        "    if plot_decision_regions:\n",
        "        plt.contourf(x2, y2, P, cmap=cmap_light, alpha = 0.8)\n",
        "\n",
        "    plt.scatter(X[:, 0], X[:, 1], c=y, cmap=cmap_bold, s=plot_symbol_size, edgecolor = 'black')\n",
        "    plt.xlim(x_min - x_plot_adjust, x_max + x_plot_adjust)\n",
        "    plt.ylim(y_min - y_plot_adjust, y_max + y_plot_adjust)\n",
        "\n",
        "    if (X_test is not None):\n",
        "        plt.scatter(X_test[:, 0], X_test[:, 1], c=y_test, cmap=cmap_bold, s=plot_symbol_size, marker='^', edgecolor = 'black')\n",
        "        train_score = clf.score(X, y)\n",
        "        test_score  = clf.score(X_test, y_test)\n",
        "        title = title + \"\\nTrain score = {:.2f}, Test score = {:.2f}\".format(train_score, test_score)\n",
        "\n",
        "    if (target_names is not None):\n",
        "        legend_handles = []\n",
        "        for i in range(0, len(target_names)):\n",
        "            patch = mpatches.Patch(color=color_list_bold[i], label=target_names[i])\n",
        "            legend_handles.append(patch)\n",
        "        plt.legend(loc=0, handles=legend_handles)\n",
        "\n",
        "    if (title is not None):\n",
        "        plt.title(title)\n",
        "    plt.show()\n"
      ],
      "execution_count": 3,
      "outputs": []
    },
    {
      "cell_type": "code",
      "metadata": {
        "id": "fHBwojJMkvBS",
        "colab": {
          "base_uri": "https://localhost:8080/",
          "height": 296
        },
        "outputId": "0af50852-65fe-476a-f307-89f4884704c8"
      },
      "source": [
        "from sklearn.naive_bayes import GaussianNB\n",
        "from sklearn.model_selection import train_test_split\n",
        "\n",
        "X_train, X_test, y_train, y_test = train_test_split(X_C2, y_C2,\n",
        "                                                    random_state = 0)\n",
        "nbclf = GaussianNB().fit(X_train,y_train)\n",
        "plot_class_regions_for_classifier(nbclf, X_train, y_train , X_test, y_test,\n",
        "                                  'Gaussian Navie Bayes Classifier : \\ Dataset 1')\n",
        "\n"
      ],
      "execution_count": 4,
      "outputs": [
        {
          "output_type": "display_data",
          "data": {
            "image/png": "[encoded data removed]",
            "text/plain": [
              "<Figure size 432x288 with 1 Axes>"
            ]
          },
          "metadata": {
            "needs_background": "light"
          }
        }
      ]
    },
    {
      "cell_type": "markdown",
      "metadata": {
        "id": "5Qak6bdGetQ3"
      },
      "source": [
        " ## Application to real-world example"
      ]
    },
    {
      "cell_type": "code",
      "metadata": {
        "id": "b__VVkLyk7XC",
        "colab": {
          "base_uri": "https://localhost:8080/"
        },
        "outputId": "2ddbcd4d-c2d4-4d95-afcd-be1119598f81"
      },
      "source": [
        "from sklearn.datasets import load_breast_cancer\n",
        "cancer = load_breast_cancer()\n",
        "(X_cancer, y_cancer) = load_breast_cancer(return_X_y = True)\n",
        "\n",
        "X_train, X_test, y_train, y_test = train_test_split(X_cancer, y_cancer,\n",
        "                                                    random_state = 0)\n",
        "\n",
        "nbclf = GaussianNB().fit(X_train, y_train)\n",
        "\n",
        "print('Breast cancer dataset')\n",
        "print('Accuracy of NN classifier on training set: {:.2f}'\n",
        "     .format(nbclf.score(X_train, y_train)))\n",
        "print('Accuracy of NN classifier on test set: {:.2f}'\n",
        "     .format(nbclf.score(X_test, y_test)))\n",
        "\n"
      ],
      "execution_count": 8,
      "outputs": [
        {
          "output_type": "stream",
          "name": "stdout",
          "text": [
            "Breast cancer dataset\n",
            "Accuracy of NN classifier on training set: 0.95\n",
            "Accuracy of NN classifier on test set: 0.94\n"
          ]
        }
      ]
    }
  ]
}